{
 "cells": [
  {
   "cell_type": "markdown",
   "metadata": {},
   "source": [
    "## The Sugarscape.\n",
    "\n",
    "The \"Sugarscape\" is a landscape (in the form of a lattice) where **sugar grows in each cell**.\n",
    "\n",
    "The sugar provides energy and wealth.\n",
    "\n",
    "**Agents explore the landscape** and, while doing it, harvest the sugar. \n",
    "\n",
    "- Each round, each agent move once. They move sequentially. Each round, the order in which the agent move is random.\n",
    "\n",
    "- Two agents can't share the same cell: if an agent can't move on a free cell within its range, it remains in the cell it occupies.\n",
    "\n",
    "- Each agent pays a metabilic cost to remain alive and move on the sugarscape. When their energy (that corresponds to their sugar level) falls below zero then they die of starvation.\n",
    "\n",
    "At the end of each round, the **landscape regrowth the sugar** according to the growth rule $G_{\\rm g}$.\n",
    "\n",
    "In our implementation we also combine agents genetics randomly after a certain amount of time. In order to analyze which traits are better suited for survival. "
   ]
  },
  {
   "cell_type": "markdown",
   "metadata": {},
   "source": [
    "### Features of the Sugarscape.\n",
    "\n",
    "We start from the classical implementation: \n",
    "\n",
    "- squared lattice $N \\times N$\n",
    "\n",
    "- sugar full capacity of each cell: from 0 to 4\n",
    "\n",
    "- landscape shaped like two sugar-hills\n",
    "\n",
    "- rule $G_{\\infty}$: at the end of each round, the sugar regrowth instantly to the maximum capacity of each cell.\n"
   ]
  },
  {
   "cell_type": "markdown",
   "metadata": {},
   "source": [
    "### Agents on the Sugarscape.\n",
    "\n",
    "Agents on sugarsape have the following features:\n",
    "\n",
    "- vision: $v$ (uniform distribution $\\in \\{1, 2, ..., 6 \\}$)\n",
    "- sugar: $s$ (uniform distribution $\\in \\{5, 6, ... 25 \\}$)\n",
    "- metabolism: $m$ (uniform distribution $\\in \\{1, 2, 3, 4 \\}$)\n",
    "\n",
    "The vision determines the motion range.\n",
    "\n",
    "The sugar is a reservoir of energy.\n",
    "\n",
    "The metabolism represents the enegy each agents demands per round to survive. \n",
    "\n"
   ]
  },
  {
   "cell_type": "code",
   "execution_count": 64,
   "metadata": {},
   "outputs": [],
   "source": [
    "import numpy as np\n",
    "import pandas as pd\n",
    "from random import sample"
   ]
  },
  {
   "cell_type": "code",
   "execution_count": 65,
   "metadata": {},
   "outputs": [],
   "source": [
    "def move_agents(SuSca, agents, N):\n",
    "    \"\"\"\n",
    "    Function to move the agents on the sugarscape using a pandas DataFrame.\n",
    "    Implements one round where all agents move once, ensuring no two agents occupy the same cell.\n",
    "    \n",
    "    Parameters\n",
    "    ==========\n",
    "    SuSca : 2D numpy array representing the sugarscape (sugar levels at each position).\n",
    "    agents : pandas DataFrame containing agent attributes and positions.\n",
    "    N : Size of the sugarscape grid (NxN).\n",
    "    max_vision : Maximum vision range for agents.\n",
    "\n",
    "    Returns\n",
    "    =======\n",
    "    Updated sugarscape grid and agents DataFrame.\n",
    "    \"\"\"\n",
    "    Nx, Ny = SuSca.shape\n",
    "    SuSca = SuSca.copy()\n",
    "    \n",
    "    # Shuffle agent order to randomize movement\n",
    "    agents = agents.sample(frac=1).reset_index(drop=True)\n",
    "    \n",
    "    # Create a set of occupied cells (x, y)\n",
    "    occupied_cells = set(zip(agents[\"x\"], agents[\"y\"]))\n",
    "    \n",
    "    for i, agent in agents.iterrows():\n",
    "        # Get agent's properties\n",
    "        x, y = int(agent[\"x\"]), int(agent[\"y\"])   # position of the agent \n",
    "        vision = int(agent[\"vision\"])  # Scale vision to an integer\n",
    "        sugar = agent[\"sugar\"]\n",
    "        metabolism = agent[\"metabolism\"]\n",
    "        \n",
    "        # Determine visible cells within vision range\n",
    "        visible_positions = []\n",
    "        for dx in range(-vision, vision + 1):\n",
    "            for dy in range(-vision, vision + 1):\n",
    "                if abs(dx) + abs(dy) <= vision:  # Manhattan distance\n",
    "                    new_x = int((x + dx) % Nx)\n",
    "                    new_y = int((y + dy) % Ny)\n",
    "                    if (new_x, new_y) not in occupied_cells:  # Skip occupied cells\n",
    "                        visible_positions.append((new_x, new_y))\n",
    "        \n",
    "        if not visible_positions:\n",
    "            # No valid moves; this agent is stuck\n",
    "            continue\n",
    "        \n",
    "        # Find the cell with the highest sugar within vision\n",
    "        # Here it might be possible to add a new lambda key, representing radiation for example. \n",
    "        best_cell = max(\n",
    "            visible_positions,\n",
    "            key=lambda pos: SuSca[pos[0], pos[1]]\n",
    "        )\n",
    "        \n",
    "        # Move agent to the best cell\n",
    "        new_x, new_y = best_cell\n",
    "        agents.at[i, \"x\"] = new_x\n",
    "        agents.at[i, \"y\"] = new_y\n",
    "        \n",
    "        # Update occupied cells safely\n",
    "        if (x, y) in occupied_cells:\n",
    "            occupied_cells.remove((x, y))  # Free the old cell\n",
    "        occupied_cells.add((new_x, new_y))  # Mark the new cell as occupied\n",
    "        \n",
    "        \n",
    "        # Collect sugar from the new cell\n",
    "        agents.at[i, \"sugar\"] += SuSca[new_x, new_y]\n",
    "        SuSca[new_x, new_y] = 0  # Deplete the cell's sugar\n",
    "        \n",
    "        # Pay the metabolic cost\n",
    "        agents.at[i, \"sugar\"] -= metabolism\n",
    "\n",
    "\n",
    "    # Remove agents with sugar <= 0 (they \"die\"), then reset the index of the DataFrame\n",
    "    agents = agents[agents[\"sugar\"] > 0].reset_index(drop=True)\n",
    "    \n",
    "    return SuSca, agents\n"
   ]
  },
  {
   "cell_type": "markdown",
   "metadata": {},
   "source": [
    "Initialize the sugarscape in the \"classical\" way."
   ]
  },
  {
   "cell_type": "code",
   "execution_count": 66,
   "metadata": {},
   "outputs": [],
   "source": [
    "import numpy as np\n",
    "\n",
    "# def initialize_sugarscape(N):\n",
    "#     \"\"\"\n",
    "#     Function to generate the \"classical\" sugarscape.\n",
    "    \n",
    "#     Parameters\n",
    "#     ==========\n",
    "#     N : Side of the sugarscape lattice.\n",
    "#     \"\"\"\n",
    "    \n",
    "#     # Initialize SuSca with integer values\n",
    "#     SuSca = np.zeros([N, N], dtype=int)  # Ensure the matrix is integer\n",
    "    \n",
    "#     # Create grid of coordinates\n",
    "#     X, Y = np.meshgrid(np.arange(N), np.arange(N))\n",
    "    \n",
    "#     # Define the center locations for the sugar sources\n",
    "#     x_centers = np.array([N / 4, 3 * N / 4])\n",
    "#     y_centers = np.array([N / 4, 3 * N / 4])\n",
    "\n",
    "#     # Define the radius levels and sugar levels\n",
    "#     r_levels = np.array([4, 3, 2, 1]) / 4 * (np.sqrt(2) / 4) * N\n",
    "#     s_levels = np.array([1, 2, 3, 4])\n",
    "    \n",
    "#     # Loop through the centers and assign sugar values\n",
    "#     for k in range(np.size(x_centers)):\n",
    "#         # Calculate distance from the center to each point on the grid\n",
    "#         d = np.sqrt((X - x_centers[k]) ** 2 + (Y - y_centers[k]) ** 2)\n",
    "        \n",
    "#         # Loop through the sugar levels\n",
    "#         for i in range(np.size(s_levels)):\n",
    "#             # Determine the region within the radius and assign sugar levels\n",
    "#             region = np.where(d <= r_levels[i])\n",
    "#             SuSca[region[0], region[1]] = s_levels[i]\n",
    "    \n",
    "#     return SuSca\n",
    "\n",
    "#print(initialize_sugarscape(10))\n",
    "\n",
    "\n",
    "def initialize_sugarscape_gaussian(N, spot_positions, spot_widths, max_sugar):\n",
    "    \"\"\"\n",
    "    Function to generate a sugarscape with Gaussian-distributed sugar levels.\n",
    "    \n",
    "    Parameters\n",
    "    ==========\n",
    "    N : int\n",
    "        Size of the sugarscape lattice (NxN).\n",
    "    spot_positions : array-like\n",
    "        List of (x, y) positions where sugar \"hotspots\" are centered.\n",
    "    spot_widths : array-like\n",
    "        List of standard deviations (sigma) for the Gaussian spread of each hotspot.\n",
    "    max_sugar : float\n",
    "        Maximum sugar value to normalize the distribution.\n",
    "        \n",
    "    Returns\n",
    "    =======\n",
    "    SuSca : ndarray\n",
    "        2D array of sugar levels.\n",
    "    \"\"\"\n",
    "    # Initialize the sugarscape grid\n",
    "    SuSca = np.zeros((N, N), dtype=float)\n",
    "\n",
    "    # Create a grid of coordinates\n",
    "    X, Y = np.meshgrid(np.arange(N), np.arange(N))\n",
    "\n",
    "    # Define the Gaussian function\n",
    "    def gauss(r, sigma):\n",
    "        return np.exp(-r**2 / (2 * sigma**2))\n",
    "\n",
    "    # Loop over all sugar hotspots\n",
    "    for i, (x_center, y_center) in enumerate(spot_positions):\n",
    "        dx = (X - x_center).astype(np.float64)\n",
    "        dy = (Y - y_center).astype(np.float64)\n",
    "        \n",
    "        # Apply periodic boundary conditions\n",
    "        dx -= np.round(dx / N) * N\n",
    "        dy -= np.round(dy / N) * N\n",
    "\n",
    "        # Compute the radial distance\n",
    "        r = np.sqrt(dx**2 + dy**2)\n",
    "\n",
    "        # Add Gaussian sugar levels to the grid\n",
    "        SuSca += gauss(r, spot_widths[i])\n",
    "\n",
    "    # Normalize sugar levels to the max_sugar value\n",
    "    SuSca *= max_sugar / np.max(SuSca)\n",
    "    \n",
    "    return SuSca\n",
    "\n"
   ]
  },
  {
   "cell_type": "markdown",
   "metadata": {},
   "source": [
    "Function to convert a 2 dimensional numpy array into a RGB image."
   ]
  },
  {
   "cell_type": "code",
   "execution_count": 67,
   "metadata": {},
   "outputs": [],
   "source": [
    "def convert2RBG(game_outcome, RGB0, RGB1):\n",
    "    \"\"\"\n",
    "    Function to convert the 2 dimensional numpy array into a RGB image.\n",
    "    \n",
    "    Parameters\n",
    "    ==========\n",
    "    game_outcome : Outcome of the prisoner's dilemma.\n",
    "    RGB0 : Components R, G, B of the chosen color shade for minimum I_profile.\n",
    "    RGB1 : Components R, G, B of the chosen color shade for maximum I_profile.\n",
    "    \"\"\"\n",
    "    \n",
    "    [n_rows, n_cols] = game_outcome.shape\n",
    "    \n",
    "    I_RGB = np.zeros([n_rows, n_cols, 3])\n",
    "    \n",
    "    # Set I_profile between 0 and 1\n",
    "    game_outcome -= np.amin(game_outcome)    \n",
    "    game_outcome /= np.amax(game_outcome)  \n",
    "    \n",
    "    for c in range(3):\n",
    "        I_RGB[:, :, c] = game_outcome * RGB1[c] + (1 - game_outcome) * RGB0[c]\n",
    "\n",
    "    return I_RGB"
   ]
  },
  {
   "cell_type": "markdown",
   "metadata": {},
   "source": [
    "Check whether the initialization works."
   ]
  },
  {
   "cell_type": "code",
   "execution_count": 68,
   "metadata": {},
   "outputs": [
    {
     "data": {
      "image/png": "[encoded data removed]",
      "text/plain": [
       "<Figure size 500x500 with 1 Axes>"
      ]
     },
     "metadata": {},
     "output_type": "display_data"
    }
   ],
   "source": [
    "from matplotlib import pyplot as plt\n",
    "\n",
    "N = 50  # Side of the sugarscape.\n",
    "spot_positions = [(N //4, N // 4), (3 * N // 4, 3 * N // 4)]  # Center of the sugar spots.\n",
    "spot_widths = [N / 6, N / 6]  # Width of the sugar spots.\n",
    "max_sugar = 4  # Maximum sugar level.\n",
    "\n",
    "\n",
    "SuSca = initialize_sugarscape_gaussian(N, spot_positions, spot_widths, max_sugar)\n",
    "\n",
    "# Create the image of the game outcome.\n",
    "RGB1 = [1.0, 0.5, 0.0]  # Orange. Color for high values.\n",
    "RGB0 = [1.0, 1.0, 1.0]  # White. Color for low values.\n",
    "SuSca_RGB = convert2RBG(SuSca, RGB0, RGB1)\n",
    "\n",
    "# Plot the Sugarscape.\n",
    "plt.figure(figsize=(5, 5))\n",
    "plt.imshow(SuSca_RGB)  # Plot Sugarscape profile.\n",
    "# Plot the reference points.\n",
    "plt.title('Classical Sugarscape')\n",
    "plt.axis('equal')\n",
    "plt.show()       \n"
   ]
  },
  {
   "cell_type": "code",
   "execution_count": 69,
   "metadata": {},
   "outputs": [
    {
     "name": "stdout",
     "output_type": "stream",
     "text": [
      "     sugar  metabolism  vision  fitness   x   y\n",
      "0        3           2       3      0.0   9   5\n",
      "1        3           1       3      0.0  31  16\n",
      "2        1           1       2      0.0   1  23\n",
      "3        5           4       4      0.0   4   9\n",
      "4        1           3       2      0.0   3  11\n",
      "..     ...         ...     ...      ...  ..  ..\n",
      "395      3           5       3      0.0  29  17\n",
      "396      4           4       5      0.0  48  12\n",
      "397      2           1       2      0.0   6   6\n",
      "398      2           4       3      0.0  43  41\n",
      "399      2           4       4      0.0  45  45\n",
      "\n",
      "[400 rows x 6 columns]\n"
     ]
    }
   ],
   "source": [
    "from random import sample\n",
    "\n",
    "N = 50  # Size of the sugarscape with the agents.\n",
    "A = 400  # Number of agents on the sugarscape.\n",
    "\n",
    "x_positions = np.random.randint(0, N, A)  # Random X positions\n",
    "y_positions = np.random.randint(0, N, A)  # Random Y positions\n",
    "\n",
    "# Create the agents with random integers between 1 and 5\n",
    "agents = pd.DataFrame({\n",
    "    \"sugar\": np.random.randint(1, 6, A),        # Random integers between 1 and 5 for sugar\n",
    "    \"metabolism\": np.random.randint(1, 6, A),   # Random integers between 1 and 5 for metabolism\n",
    "    \"vision\": np.random.randint(1, 6, A),       # Random integers between 1 and 5 for vision\n",
    "    \"fitness\": np.zeros(A),                     # Initialize fitness to 0\n",
    "    \"x\": x_positions,                           # X-coordinate of agent\n",
    "    \"y\": y_positions                            # Y-coordinate of agent\n",
    "})\n",
    "\n",
    "\n",
    "print(agents)\n"
   ]
  },
  {
   "cell_type": "code",
   "execution_count": null,
   "metadata": {},
   "outputs": [
    {
     "name": "stderr",
     "output_type": "stream",
     "text": [
      "/var/folders/zq/yh_k39cj0j5_89c5hk05fxf40000gn/T/ipykernel_56310/3322359263.py:66: FutureWarning: Setting an item of incompatible dtype is deprecated and will raise in a future error of pandas. Value '1.1704418406394121' has dtype incompatible with int64, please explicitly cast to a compatible dtype first.\n",
      "  agents.at[i, \"sugar\"] += SuSca[new_x, new_y]\n"
     ]
    },
    {
     "ename": "TclError",
     "evalue": "invalid command name \".!canvas\"",
     "output_type": "error",
     "traceback": [
      "\u001b[0;31m---------------------------------------------------------------------------\u001b[0m",
      "\u001b[0;31mTclError\u001b[0m                                  Traceback (most recent call last)",
      "Cell \u001b[0;32mIn[70], line 35\u001b[0m\n\u001b[1;32m     33\u001b[0m \u001b[38;5;66;03m# Update animation frame.\u001b[39;00m\n\u001b[1;32m     34\u001b[0m \u001b[38;5;28;01mif\u001b[39;00m step \u001b[38;5;241m%\u001b[39m N_skip \u001b[38;5;241m==\u001b[39m \u001b[38;5;241m0\u001b[39m:        \n\u001b[0;32m---> 35\u001b[0m     canvas\u001b[38;5;241m.\u001b[39mdelete(\u001b[38;5;124m'\u001b[39m\u001b[38;5;124mall\u001b[39m\u001b[38;5;124m'\u001b[39m)\n\u001b[1;32m     36\u001b[0m     SU_cells \u001b[38;5;241m=\u001b[39m []\n\u001b[1;32m     37\u001b[0m     \u001b[38;5;28;01mfor\u001b[39;00m i \u001b[38;5;129;01min\u001b[39;00m \u001b[38;5;28mrange\u001b[39m(N):\n",
      "File \u001b[0;32m/opt/anaconda3/lib/python3.11/tkinter/__init__.py:2879\u001b[0m, in \u001b[0;36mCanvas.delete\u001b[0;34m(self, *args)\u001b[0m\n\u001b[1;32m   2877\u001b[0m \u001b[38;5;28;01mdef\u001b[39;00m \u001b[38;5;21mdelete\u001b[39m(\u001b[38;5;28mself\u001b[39m, \u001b[38;5;241m*\u001b[39margs):\n\u001b[1;32m   2878\u001b[0m \u001b[38;5;250m    \u001b[39m\u001b[38;5;124;03m\"\"\"Delete items identified by all tag or ids contained in ARGS.\"\"\"\u001b[39;00m\n\u001b[0;32m-> 2879\u001b[0m     \u001b[38;5;28mself\u001b[39m\u001b[38;5;241m.\u001b[39mtk\u001b[38;5;241m.\u001b[39mcall((\u001b[38;5;28mself\u001b[39m\u001b[38;5;241m.\u001b[39m_w, \u001b[38;5;124m'\u001b[39m\u001b[38;5;124mdelete\u001b[39m\u001b[38;5;124m'\u001b[39m) \u001b[38;5;241m+\u001b[39m args)\n",
      "\u001b[0;31mTclError\u001b[0m: invalid command name \".!canvas\""
     ]
    }
   ],
   "source": [
    "import time \n",
    "from tkinter import Tk\n",
    "from tkinter import Canvas\n",
    "\n",
    "r0 = 0.25\n",
    "N_skip = 1\n",
    "\n",
    "# Visualize status every N_skip steps. \n",
    "window_size = 600\n",
    "\n",
    "cell_color_list = ['#FFFFFF', '#FFECCE', '#FFCE88', '#FFA040', '#FF8000']\n",
    "\n",
    "tk = Tk()\n",
    "tk.geometry(f'{window_size + 20}x{window_size + 20}')\n",
    "tk.configure(background='#000000')\n",
    "\n",
    "canvas = Canvas(tk, background='#ECECEC')  # Generate animation window.\n",
    "tk.attributes('-topmost', 0)\n",
    "canvas.place(x=10, y=10, height=window_size, width=window_size)\n",
    "\n",
    "step = 0\n",
    "\n",
    "\n",
    "\n",
    "# def stop_loop(event):\n",
    "#     global running\n",
    "#     running = False\n",
    "# tk.bind(\"<Escape>\", stop_loop)  # Bind the Escape key to stop the loop.\n",
    "# running = True  # Flag to control the loop.\n",
    "\n",
    "# while running:\n",
    "\n",
    "#     nSuSca, nA = move_agents(SuSca, agents, N)  ###############################\n",
    "\n",
    "#     # Update animation frame.\n",
    "#     if step % N_skip == 0:        \n",
    "#         canvas.delete('all')\n",
    "#         SU_cells = []\n",
    "#         for i in range(N):\n",
    "#             for j in range(N):\n",
    "#                 cell_color = cell_color_list[int(nSuSca[i, j])]\n",
    "#                 #\n",
    "#                 SU_cells.append(\n",
    "#                     canvas.create_rectangle(\n",
    "#                         i / N * window_size, \n",
    "#                         j / N * window_size,\n",
    "#                         (i + 1) / N * window_size,\n",
    "#                         (j + 1) / N * window_size, \n",
    "#                         outline='', \n",
    "#                         fill=cell_color,\n",
    "#                     )\n",
    "#                 )\n",
    "        \n",
    "#         # Update the agents \n",
    "#         Agents_circ = []\n",
    "#         for _, agent in agents.iterrows():  # Iterating through each row in the DataFrame\n",
    "#             x = agent[\"x\"]  # X-coordinate of the agent\n",
    "#             y = agent[\"y\"]  # Y-coordinate of the agent\n",
    "            \n",
    "#             # Drawing the agent as a circle\n",
    "#             Agents_circ.append(\n",
    "#                 canvas.create_oval(\n",
    "#                     (x + 0.5 - r0) / N * window_size,  # Top-left x-coordinate\n",
    "#                     (y + 0.5 - r0) / N * window_size,  # Top-left y-coordinate\n",
    "#                     (x + 0.5 + r0) / N * window_size,  # Bottom-right x-coordinate\n",
    "#                     (y + 0.5 + r0) / N * window_size,  # Bottom-right y-coordinate\n",
    "#                     outline='', \n",
    "#                     fill='#000000',\n",
    "#                 )\n",
    "#             )\n",
    "\n",
    "        \n",
    "#         tk.title(f'Iteration {step}')\n",
    "#         tk.update_idletasks()\n",
    "#         tk.update()\n",
    "#         time.sleep(0.5)  # Increase to slow down the simulation.\n",
    "\n",
    "#     agents = nA\n",
    "#     step += 1 \n",
    "    \n",
    "# tk.update_idletasks()\n",
    "# tk.update()\n",
    "# tk.mainloop()  # Release animation handle (close window to finish).\n",
    "\n",
    "\n",
    "\n"
   ]
  },
  {
   "cell_type": "code",
   "execution_count": null,
   "metadata": {},
   "outputs": [],
   "source": []
  },
  {
   "cell_type": "markdown",
   "metadata": {},
   "source": [
    "Now let's try without animation."
   ]
  },
  {
   "cell_type": "code",
   "execution_count": 32,
   "metadata": {},
   "outputs": [],
   "source": [
    "from random import sample\n",
    "\n",
    "N = 50  # Size of the sugarscape with the agents.\n",
    "A = 400  # Number of agents on the sugarscape.\n",
    "\n",
    "# Initial values. Chosen from the following flat distributions.\n",
    "possible_m = np.arange(4) + 1  # Metabolic rate.\n",
    "possible_v = np.arange(6) + 1  # Vision.\n",
    "possible_s = np.arange(21) + 5  # Sugar.\n",
    "\n",
    "# Agents initialized. \n",
    "M = np.random.randint(np.size(possible_m), size=A) + 1\n",
    "V = np.random.randint(np.size(possible_v), size=A) + 1\n",
    "S = np.random.randint(np.size(possible_s), size=A) + 5\n",
    "\n",
    "M0 = M.copy()\n",
    "S0 = S.copy()\n",
    "V0 = V.copy()\n",
    "\n",
    "# Define agents position. \n",
    "L = np.array(sample(range(N * N), A)).astype(int) \n",
    "x = L % N\n",
    "y = ((L - x) / N).astype(int) \n",
    "# This way each agent occupy a different cell.\n",
    "\n",
    "SuSca = initialize_sugarscape(N)\n",
    "\n",
    "# Number of agents\n",
    "num_agents = 400\n",
    "\n",
    "# Create a DataFrame with random values for each attribute\n",
    "agents = pd.DataFrame({\n",
    "    \"sugar\": np.random.uniform(0, 1, num_agents),       # Random sugar values\n",
    "    \"metabolism\": np.random.uniform(0, 1, num_agents), # Random metabolism values\n",
    "    \"vision\": np.random.uniform(0, 1, num_agents),     # Random vision values\n",
    "    \"fitness\": np.zeros(num_agents)                    # Initialize fitness to 0\n",
    "})\n"
   ]
  },
  {
   "cell_type": "code",
   "execution_count": 33,
   "metadata": {},
   "outputs": [
    {
     "ename": "TypeError",
     "evalue": "move_agents() takes from 3 to 4 positional arguments but 7 were given",
     "output_type": "error",
     "traceback": [
      "\u001b[0;31m---------------------------------------------------------------------------\u001b[0m",
      "\u001b[0;31mTypeError\u001b[0m                                 Traceback (most recent call last)",
      "Cell \u001b[0;32mIn[33], line 20\u001b[0m\n\u001b[1;32m     16\u001b[0m \u001b[38;5;28;01mwhile\u001b[39;00m running:\n\u001b[1;32m     18\u001b[0m     N_alive_agents[step] \u001b[38;5;241m=\u001b[39m A\n\u001b[0;32m---> 20\u001b[0m     nSuSca, nA, nV, nS, nM, nx, ny \u001b[38;5;241m=\u001b[39m move_agents(SuSca, A, V, S, M, x, y)\n\u001b[1;32m     22\u001b[0m     \u001b[38;5;28;01mif\u001b[39;00m step \u001b[38;5;241m%\u001b[39m N_skip \u001b[38;5;241m==\u001b[39m \u001b[38;5;241m0\u001b[39m:   \n\u001b[1;32m     23\u001b[0m         SuSca_RGB \u001b[38;5;241m=\u001b[39m convert2RBG(nSuSca, RGB0, RGB1)\n",
      "\u001b[0;31mTypeError\u001b[0m: move_agents() takes from 3 to 4 positional arguments but 7 were given"
     ]
    }
   ],
   "source": [
    "from IPython.display import clear_output\n",
    "from matplotlib import pyplot as plt\n",
    "    \n",
    "# Create the image of the game outcome.\n",
    "RGB1 = [1.0, 0.5, 0.0]  # Orange. Color for high values.\n",
    "RGB0 = [1.0, 1.0, 1.0]  # White. Color for low values.\n",
    "\n",
    "MAX_STEP = 1001\n",
    "N_skip = 200\n",
    "step = 0\n",
    "\n",
    "N_alive_agents = np.zeros(MAX_STEP)\n",
    "\n",
    "\n",
    "running = True  # Flag to control the loop.\n",
    "while running:\n",
    "\n",
    "    N_alive_agents[step] = A\n",
    "\n",
    "    nSuSca, nA, nV, nS, nM, nx, ny = move_agents(SuSca, A, V, S, M, x, y)\n",
    "\n",
    "    if step % N_skip == 0:   \n",
    "        SuSca_RGB = convert2RBG(nSuSca, RGB0, RGB1)\n",
    "\n",
    "        plt.figure(figsize=(5, 5))\n",
    "        plt.imshow(SuSca_RGB)\n",
    "        plt.plot(ny, nx, '.', color='k')\n",
    "        plt.show()\n",
    "    \n",
    "    \n",
    "    A = nA\n",
    "    V = nV.copy()\n",
    "    S = nS.copy()\n",
    "    M = nM.copy()\n",
    "    x = nx.copy()\n",
    "    y = ny.copy()\n",
    "    step += 1\n",
    "    \n",
    "    if step >= MAX_STEP:\n",
    "        running = False\n",
    "\n",
    "        \n",
    "# Final Values\n",
    "M1 = M.copy()\n",
    "S1 = S.copy()\n",
    "V1 = V.copy()\n",
    "\n"
   ]
  },
  {
   "cell_type": "markdown",
   "metadata": {},
   "source": [
    "Compare histograms:"
   ]
  },
  {
   "cell_type": "code",
   "execution_count": null,
   "metadata": {},
   "outputs": [
    {
     "name": "stdout",
     "output_type": "stream",
     "text": [
      "301\n"
     ]
    }
   ],
   "source": [
    "print(A)"
   ]
  },
  {
   "cell_type": "markdown",
   "metadata": {},
   "source": [
    "#### Metabolism"
   ]
  },
  {
   "cell_type": "code",
   "execution_count": null,
   "metadata": {},
   "outputs": [
    {
     "data": {
      "image/png": "[encoded data removed]",
      "text/plain": [
       "<Figure size 720x360 with 1 Axes>"
      ]
     },
     "metadata": {
      "needs_background": "light"
     },
     "output_type": "display_data"
    }
   ],
   "source": [
    "# Metabolism: initial and final distribution.\n",
    "m_bins = possible_m\n",
    "m_bins_edges = np.arange(np.amin(possible_m) - 0.5, np.amax(possible_m) + 0.6)\n",
    "m_ini_h, m_ini_e = np.histogram(M0, bins=m_bins_edges)\n",
    "m_fin_h, m_fin_e = np.histogram(M1, bins=m_bins_edges)\n",
    "\n",
    "\n",
    "plt.figure(figsize=(10, 5))\n",
    "plt.bar(m_bins, m_ini_h, width=0.8, edgecolor='k', label='initial')\n",
    "plt.bar(m_bins, m_fin_h, width=0.4, edgecolor='k', label='final')\n",
    "plt.legend()\n",
    "plt.xlabel('m')\n",
    "plt.title('metabolism')\n",
    "plt.show()\n",
    "\n",
    "\n",
    "\n"
   ]
  },
  {
   "cell_type": "markdown",
   "metadata": {},
   "source": [
    "#### Vision"
   ]
  },
  {
   "cell_type": "code",
   "execution_count": null,
   "metadata": {},
   "outputs": [
    {
     "data": {
      "image/png": "[encoded data removed]",
      "text/plain": [
       "<Figure size 720x360 with 1 Axes>"
      ]
     },
     "metadata": {
      "needs_background": "light"
     },
     "output_type": "display_data"
    }
   ],
   "source": [
    "# Vision: initial and final distribution.\n",
    "v_bins = possible_v\n",
    "v_bins_edges = np.arange(np.amin(possible_v) - 0.5, np.amax(possible_v) + 0.6)\n",
    "v_ini_h, v_ini_e = np.histogram(V0, bins=v_bins_edges)\n",
    "v_fin_h, v_fin_e = np.histogram(V1, bins=v_bins_edges)\n",
    "\n",
    "\n",
    "plt.figure(figsize=(10, 5))\n",
    "plt.bar(v_bins, v_ini_h, width=0.8, edgecolor='k', label='initial')\n",
    "plt.bar(v_bins, v_fin_h, width=0.4, edgecolor='k', label='final')\n",
    "plt.legend()\n",
    "plt.xlabel('v')\n",
    "plt.title('vision')\n",
    "plt.show()\n"
   ]
  },
  {
   "cell_type": "markdown",
   "metadata": {},
   "source": [
    "#### Sugar"
   ]
  },
  {
   "cell_type": "code",
   "execution_count": null,
   "metadata": {},
   "outputs": [
    {
     "data": {
      "image/png": "[encoded data removed]",
      "text/plain": [
       "<Figure size 720x360 with 1 Axes>"
      ]
     },
     "metadata": {
      "needs_background": "light"
     },
     "output_type": "display_data"
    }
   ],
   "source": [
    "# Sugar: initial and final distribution.\n",
    "s_bins_i = possible_s\n",
    "s_bins_edges_i = np.arange(np.amin(possible_s) - 0.5, np.amax(possible_s) + 0.6)\n",
    "s_ini_h, s_ini_e = np.histogram(S0, bins=s_bins_edges_i)\n",
    "\n",
    "plt.figure(figsize=(10, 5))\n",
    "plt.bar(s_bins_i, s_ini_h, width=0.8, edgecolor='k', label='initial')\n",
    "plt.legend()\n",
    "plt.xlabel('s')\n",
    "plt.title('sugar')\n",
    "plt.show()\n",
    "\n",
    "\n"
   ]
  },
  {
   "cell_type": "markdown",
   "metadata": {},
   "source": [
    "### Lorenz curve and Gini coefficient.\n",
    "\n",
    "Measure of equality in wealth / resources distribution "
   ]
  },
  {
   "cell_type": "code",
   "execution_count": null,
   "metadata": {},
   "outputs": [],
   "source": [
    "def Lorenz_curve(s):\n",
    "    \"\"\"\n",
    "    Function to generate the Lorenz curve from a sequence of data.\n",
    "    \n",
    "    Parameters\n",
    "    ==========\n",
    "    s : Sugar of each agent.\n",
    "    \"\"\"\n",
    "    \n",
    "    N = np.size(s)\n",
    "    \n",
    "    population_fraction = np.arange(N) / N\n",
    "    \n",
    "    s_sorted = np.sort(s)\n",
    "    \n",
    "    cumulative_s_fraction = np.cumsum(s_sorted) / np.sum(s_sorted)\n",
    "    \n",
    "    \n",
    "    return cumulative_s_fraction, population_fraction"
   ]
  },
  {
   "cell_type": "code",
   "execution_count": null,
   "metadata": {},
   "outputs": [
    {
     "data": {
      "image/png": "[encoded data removed]",
      "text/plain": [
       "<Figure size 360x360 with 1 Axes>"
      ]
     },
     "metadata": {
      "needs_background": "light"
     },
     "output_type": "display_data"
    }
   ],
   "source": [
    "L0, F0 = Lorenz_curve(S0)\n",
    "\n",
    "\n",
    "plt.figure(figsize=(5, 5))\n",
    "plt.plot(F0, L0, '.-', label='initial')\n",
    "plt.plot([0, 1], [0, 1], '--', color='k', label='equality')\n",
    "plt.legend()\n",
    "plt.xlabel('F')\n",
    "plt.ylabel('L')\n",
    "plt.title('sugar')\n",
    "plt.show()\n",
    "\n",
    "\n"
   ]
  },
  {
   "cell_type": "code",
   "execution_count": null,
   "metadata": {},
   "outputs": [],
   "source": []
  },
  {
   "cell_type": "code",
   "execution_count": null,
   "metadata": {},
   "outputs": [],
   "source": []
  }
 ],
 "metadata": {
  "kernelspec": {
   "display_name": "base",
   "language": "python",
   "name": "python3"
  },
  "language_info": {
   "codemirror_mode": {
    "name": "ipython",
    "version": 3
   },
   "file_extension": ".py",
   "mimetype": "text/x-python",
   "name": "python",
   "nbconvert_exporter": "python",
   "pygments_lexer": "ipython3",
   "version": "3.11.7"
  }
 },
 "nbformat": 4,
 "nbformat_minor": 4
}

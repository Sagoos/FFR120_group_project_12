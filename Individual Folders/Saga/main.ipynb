{
 "cells": [
  {
   "cell_type": "code",
   "execution_count": 280,
   "metadata": {},
   "outputs": [],
   "source": [
    "import numpy as np\n",
    "import pandas as pd\n",
    "import random\n",
    "from random import sample\n",
    "from IPython.display import clear_output\n",
    "from matplotlib import pyplot as plt\n",
    "from tqdm import tqdm\n",
    "\n",
    "random.seed(0)"
   ]
  },
  {
   "cell_type": "code",
   "execution_count": 246,
   "metadata": {},
   "outputs": [],
   "source": [
    "# def move_agents(SuSca, Agents): # N_alive, V, S, M, x, y\n",
    "#     \"\"\"\n",
    "#     Function to move the agents on the sugarscape.\n",
    "#     Implements one round where all the agents move once.\n",
    "    \n",
    "#     Parameters\n",
    "#     ==========\n",
    "#     SuSca : Lattice representing the Sugarscape. \n",
    "#     N_alive : Number of alive agents.\n",
    "#     V : Vision. 1-d numpy array.\n",
    "#     S : Sugar. 1-d numpy array.\n",
    "#     M : Metabolism. 1-d numpy array.\n",
    "#     x : x-position on the lattice of the agents. 1-d numpy array.\n",
    "#     y : y-position on the lattice of the agents. 1-d numpy array.\n",
    "#     \"\"\"\n",
    "#     N_alive = Agents[\"Alive?\"].sum() #\n",
    "\n",
    "#     SuSca_y, SuSca_x = SuSca.shape\n",
    "    \n",
    "#     nSuSca = SuSca.copy()\n",
    "#     # print(nSuSca)\n",
    "#     # nx = x.copy()\n",
    "#     # ny = y.copy()\n",
    "#     # nS = S.copy()\n",
    "\n",
    "#     New_Agents = Agents.copy() #\n",
    "\n",
    "#     Alive_indices = np.where(Agents[\"Alive?\"]==True)[0]\n",
    "#     Alive_x = New_Agents[\"X position\"][Alive_indices]\n",
    "#     Alive_y = New_Agents[\"X position\"][Alive_indices]\n",
    "    \n",
    "\n",
    "#     # print(len(Alive_indices))\n",
    "    \n",
    "#     # Define the order of the agents in this round.   \n",
    "#     order = np.random.permutation(Alive_indices)\n",
    "#     # print(\"Order: \", order)\n",
    "    \n",
    "#     # For each agent: move it in the range of the vision.\n",
    "    \n",
    "#     for i, na in enumerate(Alive_indices):\n",
    "#         ia = order[i]\n",
    "        \n",
    "#         # Agent current position.\n",
    "#         # xa = nx[ia]\n",
    "#         # ya = ny[ia]\n",
    "#         # ma = M[ia]  # Metabolic rate.\n",
    "#         # va = V[ia]  # Vision.\n",
    "#         # sa = nS[ia]  # Available sugar/energy amount.\n",
    "#         xa = New_Agents[\"X position\"][ia]\n",
    "#         ya = New_Agents[\"Y position\"][ia]\n",
    "#         ma = New_Agents[\"Metabolic Rate\"][ia]  # Metabolic rate.\n",
    "#         va = New_Agents[\"Vision\"][ia]  # Vision.\n",
    "#         sa = New_Agents[\"Sugar Level\"][ia]  # Available sugar/energy amount.\n",
    "        \n",
    "#         # print(va)\n",
    "#         # print(xa)\n",
    "#         # Cells within the range of the agent.\n",
    "#         rx = np.zeros(va * 4 + 1) + xa\n",
    "#         ry = np.zeros(va * 4 + 1) + ya\n",
    "\n",
    "#         # First position is the current agents\n",
    "#         rx[0] = xa\n",
    "#         ry[0] = ya\n",
    "\n",
    "#         # Covers all cardinal directions\n",
    "#         rx[0 * va + 1:1 * va + 1] = xa + np.arange(va) + 1\n",
    "#         rx[1 * va + 1:2 * va + 1] = xa - np.arange(va) - 1\n",
    "#         ry[2 * va + 1:3 * va + 1] = ya + np.arange(va) + 1\n",
    "#         ry[3 * va + 1:4 * va + 1] = ya - np.arange(va) - 1\n",
    "\n",
    "#         # Wrapping around boundaries\n",
    "#         rx = rx.astype(int) % SuSca_x\n",
    "#         ry = ry.astype(int) % SuSca_y\n",
    "\n",
    "#         # print(\"rx\", rx)\n",
    "#         # print(\"ry\", ry)\n",
    "#         sugar = nSuSca[ry, rx]        \n",
    "#         max_sugar = np.amax(sugar)\n",
    "#         searching_new_pos = True\n",
    "#         sugar_level = int(max_sugar)\n",
    "\n",
    "#         # print(\"\\n\")\n",
    "#         # print(f\"Agent: {ia}, pos: {int(xa),int(ya)}\")\n",
    "#         # print(list(map(int, (nSuSca[ry, rx]))))\n",
    "#         # print(rx)\n",
    "#         # print(ry)\n",
    "#         # print(\"Max sugar\", sugar_level)\n",
    "        \n",
    "#         # Agent looks for the best available position.\n",
    "#         while searching_new_pos:\n",
    "#             # Search options for a certain sugar level.\n",
    "#             options = np.where(sugar == sugar_level)[0]\n",
    "            \n",
    "            \n",
    "#             # For each option, check whether position is already occupied.            \n",
    "#             io = 0\n",
    "#             place_found = False\n",
    "\n",
    "#             while (io < np.size(options)) and (not place_found):\n",
    "#                 i = options[io]\n",
    "#                 x_ref = rx[i] % SuSca_x\n",
    "#                 y_ref = ry[i] % SuSca_y\n",
    "\n",
    "#                 # Check if the position is available.\n",
    "#                 a_ref = np.intersect1d(\n",
    "#                     np.where(New_Agents.iloc[Alive_indices, 0] == x_ref)[0],\n",
    "#                     np.where(New_Agents.iloc[Alive_indices, 1] == y_ref)[0])\n",
    "                \n",
    "#                 if np.size(a_ref) == 0:\n",
    "#                     # Position is available\n",
    "#                     New_Agents.iloc[ia, 0] = x_ref \n",
    "#                     New_Agents.iloc[ia, 1] = y_ref\n",
    "#                     New_Agents.iloc[ia, 4] += nSuSca[y_ref, x_ref]  # Agent takes the sugar.\n",
    "#                     nSuSca[y_ref, x_ref] = 0   # Sugarscape cell is depleted.\n",
    "#                     place_found = True\n",
    "#                 else:\n",
    "#                     # Check whether this is the current position.\n",
    "#                     if (x_ref == New_Agents[\"X position\"][ia]) and (y_ref == New_Agents[\"Y position\"][ia]):\n",
    "#                         New_Agents.iloc[ia, 4] += nSuSca[y_ref, x_ref]  # Agent takes the sugar.\n",
    "#                         nSuSca[y_ref, x_ref] = 0   # Sugarscape cell is depleted.\n",
    "#                         place_found = True\n",
    "#                     else:\n",
    "#                         # The position is occupied by someone else.\n",
    "#                         io += 1\n",
    "            \n",
    "#             # If we are here, we either have found a place or \n",
    "#             # exausted the possibilities for this sugar_level\n",
    "            \n",
    "#             if not place_found:\n",
    "#                 if sugar_level > 0:\n",
    "#                     sugar_level -= 1\n",
    "#                 else:\n",
    "#                     # The agent stays where it is.                    \n",
    "#                     New_Agents.iloc[ia, 4] += nSuSca[New_Agents[\"Y position\"][ia], New_Agents[\"X position\"][ia]]  # Agent takes the sugar.\n",
    "#                     nSuSca[New_Agents[\"Y position\"][ia], New_Agents[\"X position\"][ia]] = 0\n",
    "#                     searching_new_pos = False\n",
    "#             else: \n",
    "#                 # A place has been found for the agent.\n",
    "#                 searching_new_pos = False\n",
    "#         # print(nSuSca[New_Agents[\"Y position\"][ia], New_Agents[\"X position\"][ia]] )\n",
    "            \n",
    "#         # print(\"New pos: \", x_ref,y_ref)\n",
    "            \n",
    "        \n",
    "    \n",
    "#     # All agents have moved.\n",
    "    \n",
    "#     # Now pay the metabolic price.\n",
    "#     New_Agents.iloc[Alive_indices, 4] = New_Agents.iloc[Alive_indices, 4] - New_Agents.iloc[Alive_indices, 2]\n",
    "    \n",
    "#     # Now check which agents are still alive.\n",
    "#     # still_alive = np.where(nS > 0)[0]\n",
    "    \n",
    "#     # N_still_alive = np.size(still_alive)\n",
    "#     # V_alive = V[still_alive]\n",
    "#     # S_alive = nS[still_alive]\n",
    "#     # M_alive = M[still_alive]\n",
    "#     # x_alive = nx[still_alive]\n",
    "#     # y_alive = ny[still_alive]\n",
    "\n",
    "#     not_alive = np.where(New_Agents[\"Sugar Level\"] <= 0)[0]\n",
    "#     New_Agents.iloc[not_alive, 5] = False\n",
    "        \n",
    "#     return nSuSca, New_Agents #N_still_alive, V_alive, S_alive, M_alive, x_alive, y_alive\n",
    "\n",
    "\n"
   ]
  },
  {
   "cell_type": "markdown",
   "metadata": {},
   "source": [
    "Initialize the sugarscape in the \"classical\" way."
   ]
  },
  {
   "cell_type": "code",
   "execution_count": 247,
   "metadata": {},
   "outputs": [],
   "source": [
    "def initialize_sugarscape(N):\n",
    "    \"\"\"\n",
    "    Function to generate the \"classical\" sugarscape.\n",
    "    \n",
    "    Parameters\n",
    "    ==========\n",
    "    N : Side of the sugarscape lattice.\n",
    "    \"\"\"\n",
    "    \n",
    "    SuSca = np.zeros([N, N])\n",
    "    X, Y = np.meshgrid(np.arange(N), np.arange(N))\n",
    "    \n",
    "    x_centers = np.array([N / 4, 3 * N / 4])\n",
    "    y_centers = np.array([N / 4, 3 * N / 4])\n",
    "\n",
    "    r_levels = np.array([4, 3, 2, 1]) / 4 * (np.sqrt(2) / 4) * N\n",
    "    s_levels = np.array([1, 2, 3, 4])\n",
    "    \n",
    "    for k in range(np.size(x_centers)):\n",
    "        d = np.sqrt((X - x_centers[k]) ** 2 +\n",
    "                    (Y - y_centers[k]) ** 2)\n",
    "        for i in range(np.size(s_levels)):\n",
    "            region = np.where(d <= r_levels[i])\n",
    "            SuSca[region[0], region[1]] = s_levels[i]\n",
    "    \n",
    "    return SuSca\n"
   ]
  },
  {
   "cell_type": "markdown",
   "metadata": {},
   "source": [
    "Function to convert a 2 dimensional numpy array into a RGB image."
   ]
  },
  {
   "cell_type": "code",
   "execution_count": 248,
   "metadata": {},
   "outputs": [],
   "source": [
    "def convert2RBG(SuSca, RGB0, RGB1):\n",
    "    \"\"\"\n",
    "    Function to convert the 2 dimensional numpy array into a RGB image.\n",
    "    \n",
    "    Parameters\n",
    "    ==========\n",
    "    game_outcome : Outcome of the prisoner's dilemma.\n",
    "    RGB0 : Components R, G, B of the chosen color shade for minimum I_profile.\n",
    "    RGB1 : Components R, G, B of the chosen color shade for maximum I_profile.\n",
    "    \"\"\"\n",
    "    game_outcome = SuSca.copy()\n",
    "    \n",
    "    [n_rows, n_cols] = game_outcome.shape\n",
    "    \n",
    "    I_RGB = np.zeros([n_rows, n_cols, 3])\n",
    "    \n",
    "    # Set I_profile between 0 and 1\n",
    "    game_outcome -= np.amin(game_outcome)    \n",
    "    game_outcome /= np.amax(game_outcome)  \n",
    "    \n",
    "    for c in range(3):\n",
    "        I_RGB[:, :, c] = game_outcome * RGB1[c] + (1 - game_outcome) * RGB0[c]\n",
    "\n",
    "    return I_RGB"
   ]
  },
  {
   "cell_type": "markdown",
   "metadata": {},
   "source": [
    "Check whether the initialization works."
   ]
  },
  {
   "cell_type": "code",
   "execution_count": 249,
   "metadata": {},
   "outputs": [
    {
     "data": {
      "image/png": "[encoded data removed]",
      "text/plain": [
       "<Figure size 500x500 with 1 Axes>"
      ]
     },
     "metadata": {},
     "output_type": "display_data"
    }
   ],
   "source": [
    "from matplotlib import pyplot as plt\n",
    "\n",
    "N = 50  # Side of the sugarscape.\n",
    "\n",
    "SuSca = initialize_sugarscape(N)\n",
    "\n",
    "# Create the image of the game outcome.\n",
    "RGB1 = [1.0, 0.5, 0.0]  # Orange. Color for high values.\n",
    "RGB0 = [1.0, 1.0, 1.0]  # White. Color for low values.\n",
    "SuSca_RGB = convert2RBG(SuSca, RGB0, RGB1)\n",
    "\n",
    "# Plot the Sugarscape.\n",
    "plt.figure(figsize=(5, 5))\n",
    "plt.imshow(SuSca_RGB)  # Plot Sugarscape profile.\n",
    "# Plot the reference points.\n",
    "plt.title('Classical Sugarscape')\n",
    "plt.axis('equal')\n",
    "plt.show()       \n"
   ]
  },
  {
   "cell_type": "code",
   "execution_count": 250,
   "metadata": {},
   "outputs": [],
   "source": [
    "\n",
    "\n",
    "# N = 50  # Size of the sugarscape with the agents.\n",
    "# A = 400  # Number of agents on the sugarscape.\n",
    "\n",
    "# # Initial values. Chosen from the following flat distributions.\n",
    "# possible_m = np.arange(4) + 1  # Metabolic rate.\n",
    "# possible_v = np.arange(6) + 1  # Vision.\n",
    "# possible_s = np.arange(21) + 5  # Sugar.\n",
    "\n",
    "# # Agents initialized. \n",
    "# M = np.random.randint(np.size(possible_m), size=A) + 1\n",
    "# V = np.random.randint(np.size(possible_v), size=A) + 1\n",
    "# S = np.random.randint(np.size(possible_s), size=A) + 5\n",
    "\n",
    "# # Define agents position. \n",
    "# L = np.array(sample(range(N * N), A)).astype(int) \n",
    "# x = L % N\n",
    "# y = ((L - x) / N).astype(int) \n",
    "# # This way each agent occupy a different cell.\n",
    "\n",
    "# SuSca = initialize_sugarscape(N)"
   ]
  },
  {
   "cell_type": "code",
   "execution_count": 251,
   "metadata": {},
   "outputs": [],
   "source": [
    "# import time \n",
    "# from tkinter import Tk\n",
    "# from tkinter import Canvas\n",
    "\n",
    "# r0 = 0.25\n",
    "# N_skip = 1\n",
    "\n",
    "# # Visualize status every N_skip steps. \n",
    "# window_size = 600\n",
    "\n",
    "# cell_color_list = ['#FFFFFF', '#FFECCE', '#FFCE88', '#FFA040', '#FF8000']\n",
    "\n",
    "# tk = Tk()\n",
    "# tk.geometry(f'{window_size + 20}x{window_size + 20}')\n",
    "# tk.configure(background='#000000')\n",
    "\n",
    "# canvas = Canvas(tk, background='#ECECEC')  # Generate animation window.\n",
    "# tk.attributes('-topmost', 0)\n",
    "# canvas.place(x=10, y=10, height=window_size, width=window_size)\n",
    "\n",
    "# step = 0\n",
    "\n",
    "# def stop_loop(event):\n",
    "#     global running\n",
    "#     running = False\n",
    "# tk.bind(\"<Escape>\", stop_loop)  # Bind the Escape key to stop the loop.\n",
    "# running = True  # Flag to control the loop.\n",
    "# while running:\n",
    "\n",
    "#     nSuSca, nA, nV, nS, nM, nx, ny = move_agents(SuSca, A, V, S, M, x, y)\n",
    "\n",
    "#     # Update animation frame.\n",
    "#     if step % N_skip == 0:        \n",
    "#         canvas.delete('all')\n",
    "#         SU_cells = []\n",
    "#         for i in range(N):\n",
    "#             for j in range(N):\n",
    "#                 cell_color = cell_color_list[int(nSuSca[i, j])]\n",
    "#                 #\n",
    "#                 SU_cells.append(\n",
    "#                     canvas.create_rectangle(\n",
    "#                         i / N * window_size, \n",
    "#                         j / N * window_size,\n",
    "#                         (i + 1) / N * window_size,\n",
    "#                         (j + 1) / N * window_size, \n",
    "#                         outline='', \n",
    "#                         fill=cell_color,\n",
    "#                     )\n",
    "#                 )\n",
    "#         Agents_circ = []\n",
    "#         for i in range(nA):\n",
    "#             Agents_circ.append(\n",
    "#                 canvas.create_oval(\n",
    "#                     (nx[i] + 0.5 - r0) / N * window_size, \n",
    "#                     (ny[i] + 0.5 - r0) / N * window_size,\n",
    "#                     (nx[i] + 0.5 + r0) / N * window_size,\n",
    "#                     (ny[i] + 0.5 + r0) / N * window_size, \n",
    "#                     outline='', \n",
    "#                     fill='#000000',\n",
    "#                 )\n",
    "#             )\n",
    "        \n",
    "#         tk.title(f'Iteration {step}')\n",
    "#         tk.update_idletasks()\n",
    "#         tk.update()\n",
    "#         time.sleep(0.1)  # Increase to slow down the simulation.\n",
    "\n",
    "#     A = nA\n",
    "#     V = nV.copy()\n",
    "#     S = nS.copy()\n",
    "#     M = nM.copy()\n",
    "#     x = nx.copy()\n",
    "#     y = ny.copy()\n",
    "#     step += 1\n",
    "    \n",
    "# tk.update_idletasks()\n",
    "# tk.update()\n",
    "# tk.mainloop()  # Release animation handle (close window to finish)."
   ]
  },
  {
   "cell_type": "code",
   "execution_count": 252,
   "metadata": {},
   "outputs": [],
   "source": [
    "def get_viewfield(xa, ya, va, Nx, Ny, Alive):\n",
    "    rx = np.zeros(va * 4 + 1) + xa\n",
    "    ry = np.zeros(va * 4 + 1) + ya\n",
    "\n",
    "    # First position is the current agents\n",
    "    rx[0] = xa\n",
    "    ry[0] = ya\n",
    "    \n",
    "    # Covers all cardinal directions\n",
    "    rx[0 * va + 1:1 * va + 1] = xa + np.arange(va) + 1\n",
    "    rx[1 * va + 1:2 * va + 1] = xa - np.arange(va) - 1\n",
    "    ry[2 * va + 1:3 * va + 1] = ya + np.arange(va) + 1\n",
    "    ry[3 * va + 1:4 * va + 1] = ya - np.arange(va) - 1\n",
    "    \n",
    "    # Wrapping around boundaries\n",
    "    rx = rx.astype(int) % Nx\n",
    "    ry = ry.astype(int) % Ny\n",
    "\n",
    "    A_view = list(zip(rx.tolist(), ry.tolist()))\n",
    "    mask = [True]+[item not in Alive for item in A_view[1:]]\n",
    "    indices = np.where(mask)[0] \n",
    "    A_view = np.array(A_view )\n",
    "\n",
    "    rx, ry = zip(*A_view[indices])\n",
    "    rx = list(rx)\n",
    "    ry = list(ry)\n",
    "\n",
    "    return rx, ry"
   ]
  },
  {
   "cell_type": "code",
   "execution_count": 253,
   "metadata": {},
   "outputs": [],
   "source": [
    "# def move_agents(SuSca, Agents):\n",
    "\n",
    "#     Nx,Ny = SuSca.shape\n",
    "#     nSuSca = SuSca.copy()\n",
    "\n",
    "#     New_Agents = Agents.copy() \n",
    "#     Alive_indices = np.where(Agents[\"Alive?\"]==True)[0]\n",
    "\n",
    "#     Alive_x = New_Agents[\"X position\"][Alive_indices].copy()\n",
    "#     Alive_y = New_Agents[\"Y position\"][Alive_indices].copy()\n",
    "\n",
    "#     Alive = list(zip(Alive_x, Alive_y))\n",
    "\n",
    "#     # Define the order of the agents in this round.   \n",
    "#     order = np.random.permutation(Alive_indices)\n",
    "\n",
    "#     for ia in order:\n",
    "\n",
    "#         xa = New_Agents[\"X position\"][ia]\n",
    "#         ya = New_Agents[\"Y position\"][ia]\n",
    "#         va = New_Agents[\"Vision\"][ia]\n",
    "\n",
    "#         rx, ry = get_viewfield(xa, ya, va, Nx, Ny, Alive)\n",
    "        \n",
    "#         sugar = nSuSca[ry, rx]\n",
    "#         max_sugar = int(np.amax(sugar))\n",
    "#         pos = np.where(sugar == max_sugar)[0][-1]\n",
    "\n",
    "#         x_ref = rx[pos] % Nx\n",
    "#         y_ref = ry[pos] % Ny\n",
    "\n",
    "#         New_Agents.iloc[ia, 0] = x_ref\n",
    "#         New_Agents.iloc[ia, 1] = y_ref\n",
    "#         New_Agents.iloc[ia, 4] += nSuSca[y_ref,x_ref]\n",
    "#         New_Agents.iloc[ia, 4] -= New_Agents.iloc[ia, 2]\n",
    "#         nSuSca[y_ref,x_ref] = 0\n",
    "\n",
    "#         not_alive = np.where(New_Agents[\"Sugar Level\"] <= 0)[0]\n",
    "#         New_Agents.iloc[not_alive, 5] = False\n",
    "        \n",
    "#     return nSuSca, New_Agents\n",
    "\n"
   ]
  },
  {
   "cell_type": "code",
   "execution_count": 254,
   "metadata": {},
   "outputs": [],
   "source": [
    "def move_agents(SuSca, Agents):\n",
    "\n",
    "    Nx,Ny = SuSca.shape\n",
    "    nSuSca = SuSca.copy()\n",
    "\n",
    "    # New_Agents = Agents.copy() \n",
    "    Alive_indices = np.where(Agents[\"Alive?\"]==True)[0]\n",
    "\n",
    "    Alive_x = Agents[\"X position\"][Agents[\"Alive?\"]].copy()\n",
    "    Alive_y = Agents[\"Y position\"][Agents[\"Alive?\"]].copy()\n",
    "\n",
    "    Alive = list(zip(Alive_x, Alive_y))\n",
    "\n",
    "    # Define the order of the agents in this round.   \n",
    "    order = np.random.permutation(Alive_indices)\n",
    "    x = np.array(Agents[\"X position\"].copy())\n",
    "    y = np.array(Agents[\"Y position\"].copy())\n",
    "    v = np.array(Agents[\"Vision\"].copy())\n",
    "    s = np.array(Agents[\"Sugar Level\"].copy())\n",
    "    m = np.array(Agents[\"Metabolic Rate\"].copy())\n",
    "    a = np.array(Agents[\"Alive?\"].copy())\n",
    "\n",
    "    for ia in order:\n",
    "\n",
    "        xa = x[ia]\n",
    "        ya = y[ia]\n",
    "        va = v[ia]\n",
    "\n",
    "        rx, ry = get_viewfield(xa, ya, va, Nx, Ny, Alive)\n",
    "        \n",
    "        sugar = nSuSca[ry, rx]\n",
    "        max_sugar = int(np.amax(sugar))\n",
    "        pos = np.where(sugar == max_sugar)[0][-1]\n",
    "\n",
    "        x_ref = rx[pos] % Nx\n",
    "        y_ref = ry[pos] % Ny\n",
    "\n",
    "        x[ia] = x_ref\n",
    "        y[ia] = y_ref\n",
    "        s[ia] += nSuSca[y_ref,x_ref]\n",
    "        s[ia] -= m[ia]\n",
    "        nSuSca[y_ref,x_ref] = 0\n",
    "\n",
    "        not_alive = np.where(s <= 0)[0]\n",
    "        a[not_alive] = False\n",
    "\n",
    "    Agents[\"X position\"] = x\n",
    "    Agents[\"Y position\"] = y\n",
    "    Agents[\"Vision\"] = v\n",
    "    Agents[\"Sugar Level\"] = s\n",
    "    Agents[\"Metabolic Rate\"] = m\n",
    "    Agents[\"Alive?\"] = a\n",
    "\n",
    "\n",
    "        \n",
    "    return nSuSca, Agents\n",
    "\n"
   ]
  },
  {
   "cell_type": "markdown",
   "metadata": {},
   "source": [
    "Now let's try without animation."
   ]
  },
  {
   "cell_type": "code",
   "execution_count": null,
   "metadata": {},
   "outputs": [],
   "source": [
    "# def generate_numbers(N_properties, tot_value ):\n",
    "#     agent = np.ones(N_properties)\n",
    "#     agent_vector = np.random.rand(N_properties)\n",
    "#     normalized_vector = np.round(agent_vector / (np.sum(agent_vector)) * (tot_value-N_properties)) + agent\n",
    "\n",
    "#     while np.sum(normalized_vector) != tot_value:\n",
    "#         rn = random.randint(0,N_properties-1)\n",
    "#         rest = 10 - np.sum(normalized_vector)\n",
    "\n",
    "#         if normalized_vector[rn] != 1 or rest > 0:\n",
    "#             normalized_vector[rn] += np.sign(rest)\n",
    "#     return (normalized_vector.astype(int))\n",
    "\n"
   ]
  },
  {
   "cell_type": "code",
   "execution_count": 293,
   "metadata": {},
   "outputs": [],
   "source": [
    "def generate_numbers(N_properties, tot_value ):\n",
    "    agent = np.ones(N_properties)\n",
    "    agent_vector = np.random.rand(N_properties)\n",
    "    normalized_vector = np.round(agent_vector / np.sum(agent_vector) * (tot_value - N_properties)) + 1\n",
    "    diff = tot_value - np.sum(normalized_vector)\n",
    "    # print(diff)\n",
    "    for _ in range(abs(int(diff))):\n",
    "        if diff > 0:\n",
    "            normalized_vector[np.argmin(normalized_vector)] += 1\n",
    "        elif diff < 0:\n",
    "            normalized_vector[np.argmax(normalized_vector)] -= 1\n",
    "    return (normalized_vector.astype(int))"
   ]
  },
  {
   "cell_type": "code",
   "execution_count": 268,
   "metadata": {},
   "outputs": [],
   "source": [
    "# Swap two features with a chance of mutation rate\n",
    "def mutation(Agents, i_agent, mutation_rate, properties):\n",
    "    if np.random.rand() < mutation_rate:\n",
    "        p = properties + 1\n",
    "        i = random.randint(2, p)\n",
    "        j = random.randint(2, p)\n",
    "        \n",
    "        while i == j:\n",
    "            j = random.randint(2, p)\n",
    "\n",
    "        placeholder = Agents.iloc[i_agent, i]    \n",
    "        Agents.iloc[i_agent, i] = Agents.iloc[i_agent, j] \n",
    "        Agents.iloc[i_agent, j] = placeholder\n",
    "        "
   ]
  },
  {
   "cell_type": "code",
   "execution_count": 298,
   "metadata": {},
   "outputs": [
    {
     "name": "stderr",
     "output_type": "stream",
     "text": [
      "100%|██████████| 400/400 [00:00<00:00, 1474.55it/s]"
     ]
    },
    {
     "name": "stdout",
     "output_type": "stream",
     "text": [
      "     X position  Y position  Metabolic Rate  Vision  Property 3  Property 4  \\\n",
      "0            13           3               2       4           3           6   \n",
      "1            35          20               1       2           5           7   \n",
      "2            16          32               2       5           2           6   \n",
      "3            28          32               4       2           4           5   \n",
      "4            32          42               3       4           6           2   \n",
      "..          ...         ...             ...     ...         ...         ...   \n",
      "395          10          47               5       4           1           5   \n",
      "396          20          39               3       7           3           2   \n",
      "397          22          17               8       3           1           3   \n",
      "398          25          37               5       1           5           4   \n",
      "399          27           1               4       4           4           3   \n",
      "\n",
      "     Sugar Level  Alive?  \n",
      "0             24    True  \n",
      "1             11    True  \n",
      "2             19    True  \n",
      "3             12    True  \n",
      "4             16    True  \n",
      "..           ...     ...  \n",
      "395           13    True  \n",
      "396           23    True  \n",
      "397           12    True  \n",
      "398           18    True  \n",
      "399           20    True  \n",
      "\n",
      "[400 rows x 8 columns]\n"
     ]
    },
    {
     "name": "stderr",
     "output_type": "stream",
     "text": [
      "\n"
     ]
    }
   ],
   "source": [
    "N = 50  # Size of the sugarscape with the agents.\n",
    "A = 400  # Number of agents on the sugarscape.\n",
    "mutation_rate = 0.25\n",
    "\n",
    "# Initial values. Chosen from the following flat distributions.\n",
    "possible_m = np.arange(4) + 1  # Metabolic rate.\n",
    "possible_v = np.arange(6) + 1  # Vision.\n",
    "possible_s = np.arange(21) + 5  # Sugar.\n",
    "\n",
    "# Define agents position. \n",
    "L = np.array(sample(range(N * N), A)).astype(int) \n",
    "x = L % N\n",
    "y = ((L - x) / N).astype(int) \n",
    "# This way each agent occupy a different cell.\n",
    "\n",
    "\n",
    "properties = 4\n",
    "total_value = 15\n",
    "\n",
    "data = {\n",
    "    \"X position\": L % N,\n",
    "    \"Y position\": ((L - x) / N).astype(int),\n",
    "    \"Metabolic Rate\": np.full(A, 0, dtype=int),\n",
    "    \"Vision\": np.full(A, 0, dtype=int),\n",
    "    \"Property 3\": np.full(A, 0, dtype=int),\n",
    "    \"Property 4\": np.full(A, 0, dtype=int),\n",
    "    \"Sugar Level\": np.random.randint(np.size(possible_s), size=A) + 5,\n",
    "    \"Alive?\": np.full(A, True, dtype=bool)    \n",
    "}\n",
    "\n",
    "Agents = pd.DataFrame(data)\n",
    "\n",
    "for i in tqdm(range(A)):\n",
    "\n",
    "    Agent = generate_numbers(properties, total_value)\n",
    "    Agents.loc[i, [\"Metabolic Rate\", \"Vision\",\"Property 3\", \"Property 4\"]] = list(Agent)\n",
    "\n",
    "print(Agents)\n",
    "Agents0 = Agents.copy()\n",
    "\n",
    "SuSca = initialize_sugarscape(N)\n"
   ]
  },
  {
   "cell_type": "code",
   "execution_count": 258,
   "metadata": {},
   "outputs": [],
   "source": [
    "# mutation_rate = 0.25\n",
    "# for i in range(A):\n",
    "#     mutation(Agents, i, mutation_rate, properties)\n",
    "\n",
    "# print(Agents)"
   ]
  },
  {
   "cell_type": "code",
   "execution_count": 259,
   "metadata": {},
   "outputs": [],
   "source": [
    "# print(M, V, S)\n",
    "\n",
    "# New Initialize agents\n",
    "# data = {\n",
    "#     \"X position\": L % N,\n",
    "#     \"Y position\": ((L - x) / N).astype(int),\n",
    "#     \"Metabolic Rate\": np.random.randint(np.size(possible_m), size=A)+1,\n",
    "#     \"Vision\": np.random.randint(np.size(possible_v), size=A) + 1,\n",
    "#     \"Sugar Level\": np.random.randint(np.size(possible_s), size=A) + 5,\n",
    "#     \"Alive?\": np.full(A, True, dtype=bool)    \n",
    "# }\n",
    "\n",
    "# Agents initialized. \n",
    "# data = {\n",
    "#     \"X position\": L % N,\n",
    "#     \"Y position\": ((L - x) / N).astype(int),\n",
    "#     \"Metabolic Rate\": 1,\n",
    "#     \"Vision\": 3,\n",
    "#     \"Sugar Level\": 5,\n",
    "#     \"Alive?\": np.full(A, True, dtype=bool)    \n",
    "# }"
   ]
  },
  {
   "cell_type": "code",
   "execution_count": 260,
   "metadata": {},
   "outputs": [],
   "source": [
    "# RGB1 = [1.0, 0.5, 0.0]  # Orange. Color for high values.\n",
    "# RGB0 = [1.0, 1.0, 1.0]  # White. Color for low values.\n",
    "\n",
    "\n",
    "\n",
    "# Alive_agents = np.where(Agents[\"Alive?\"]==True)[0]\n",
    "\n",
    "# SuSca_RGB = convert2RBG(SuSca, RGB0, RGB1)\n",
    "\n",
    "# plt.figure(figsize=(5, 5))\n",
    "# plt.imshow(SuSca_RGB)\n",
    "# plt.plot(Agents[\"X position\"][Alive_agents], Agents[\"Y position\"][Alive_agents], '.', color='k')\n",
    "# plt.show()\n",
    "\n",
    "# SuSca, Agents = move_agents(SuSca, Agents)\n",
    "\n",
    "# SuSca_RGB = convert2RBG(SuSca, RGB0, RGB1)\n",
    "\n",
    "# plt.figure(figsize=(5, 5))\n",
    "# plt.imshow(SuSca_RGB)\n",
    "# plt.plot(Agents[\"X position\"][Alive_agents], Agents[\"Y position\"][Alive_agents], '.', color='k')\n",
    "# plt.show()"
   ]
  },
  {
   "cell_type": "code",
   "execution_count": 261,
   "metadata": {},
   "outputs": [
    {
     "data": {
      "image/png": "[encoded data removed]",
      "text/plain": [
       "<Figure size 500x500 with 1 Axes>"
      ]
     },
     "metadata": {},
     "output_type": "display_data"
    }
   ],
   "source": [
    "SuSca_RGB = convert2RBG(SuSca, RGB0, RGB1)\n",
    "# print(SuSca)\n",
    "\n",
    "plt.figure(figsize=(5, 5))\n",
    "plt.imshow(SuSca_RGB)\n",
    "plt.plot(Agents[\"X position\"], Agents[\"Y position\"], '.', color='k')\n",
    "plt.show()\n",
    "\n",
    "# print(Agents)"
   ]
  },
  {
   "cell_type": "code",
   "execution_count": 262,
   "metadata": {},
   "outputs": [
    {
     "data": {
      "image/png": "[encoded data removed]",
      "text/plain": [
       "<Figure size 500x500 with 1 Axes>"
      ]
     },
     "metadata": {},
     "output_type": "display_data"
    },
    {
     "data": {
      "image/png": "[encoded data removed]",
      "text/plain": [
       "<Figure size 500x500 with 1 Axes>"
      ]
     },
     "metadata": {},
     "output_type": "display_data"
    },
    {
     "data": {
      "image/png": "[encoded data removed]",
      "text/plain": [
       "<Figure size 500x500 with 1 Axes>"
      ]
     },
     "metadata": {},
     "output_type": "display_data"
    },
    {
     "data": {
      "image/png": "[encoded data removed]",
      "text/plain": [
       "<Figure size 500x500 with 1 Axes>"
      ]
     },
     "metadata": {},
     "output_type": "display_data"
    },
    {
     "data": {
      "image/png": "[encoded data removed]",
      "text/plain": [
       "<Figure size 500x500 with 1 Axes>"
      ]
     },
     "metadata": {},
     "output_type": "display_data"
    },
    {
     "data": {
      "image/png": "[encoded data removed]",
      "text/plain": [
       "<Figure size 500x500 with 1 Axes>"
      ]
     },
     "metadata": {},
     "output_type": "display_data"
    },
    {
     "data": {
      "image/png": "[encoded data removed]",
      "text/plain": [
       "<Figure size 500x500 with 1 Axes>"
      ]
     },
     "metadata": {},
     "output_type": "display_data"
    },
    {
     "data": {
      "image/png": "[encoded data removed]",
      "text/plain": [
       "<Figure size 500x500 with 1 Axes>"
      ]
     },
     "metadata": {},
     "output_type": "display_data"
    },
    {
     "ename": "KeyboardInterrupt",
     "evalue": "",
     "output_type": "error",
     "traceback": [
      "\u001b[1;31m---------------------------------------------------------------------------\u001b[0m",
      "\u001b[1;31mKeyboardInterrupt\u001b[0m                         Traceback (most recent call last)",
      "Cell \u001b[1;32mIn[262], line 26\u001b[0m\n\u001b[0;32m     22\u001b[0m \u001b[38;5;28;01mwhile\u001b[39;00m running:\n\u001b[0;32m     24\u001b[0m     N_alive_agents[step] \u001b[38;5;241m=\u001b[39m Agents[\u001b[38;5;124m\"\u001b[39m\u001b[38;5;124mAlive?\u001b[39m\u001b[38;5;124m\"\u001b[39m]\u001b[38;5;241m.\u001b[39msum()\n\u001b[1;32m---> 26\u001b[0m     nSuSca, Agents\u001b[38;5;241m=\u001b[39m \u001b[43mmove_agents\u001b[49m\u001b[43m(\u001b[49m\u001b[43mSuSca\u001b[49m\u001b[43m,\u001b[49m\u001b[43m \u001b[49m\u001b[43mAgents\u001b[49m\u001b[43m)\u001b[49m \u001b[38;5;66;03m# A, V, S, M, x, y   nA, nV, nS, nM, nx, ny\u001b[39;00m\n\u001b[0;32m     27\u001b[0m     \u001b[38;5;66;03m# print(nSuSca)\u001b[39;00m\n\u001b[0;32m     28\u001b[0m     \u001b[38;5;28;01mif\u001b[39;00m step \u001b[38;5;241m%\u001b[39m N_skip \u001b[38;5;241m==\u001b[39m \u001b[38;5;241m0\u001b[39m:  \n\u001b[0;32m     29\u001b[0m         \u001b[38;5;66;03m# print(Agents) \u001b[39;00m\n",
      "Cell \u001b[1;32mIn[254], line 29\u001b[0m, in \u001b[0;36mmove_agents\u001b[1;34m(SuSca, Agents)\u001b[0m\n\u001b[0;32m     26\u001b[0m ya \u001b[38;5;241m=\u001b[39m y[ia]\n\u001b[0;32m     27\u001b[0m va \u001b[38;5;241m=\u001b[39m v[ia]\n\u001b[1;32m---> 29\u001b[0m rx, ry \u001b[38;5;241m=\u001b[39m \u001b[43mget_viewfield\u001b[49m\u001b[43m(\u001b[49m\u001b[43mxa\u001b[49m\u001b[43m,\u001b[49m\u001b[43m \u001b[49m\u001b[43mya\u001b[49m\u001b[43m,\u001b[49m\u001b[43m \u001b[49m\u001b[43mva\u001b[49m\u001b[43m,\u001b[49m\u001b[43m \u001b[49m\u001b[43mNx\u001b[49m\u001b[43m,\u001b[49m\u001b[43m \u001b[49m\u001b[43mNy\u001b[49m\u001b[43m,\u001b[49m\u001b[43m \u001b[49m\u001b[43mAlive\u001b[49m\u001b[43m)\u001b[49m\n\u001b[0;32m     31\u001b[0m sugar \u001b[38;5;241m=\u001b[39m nSuSca[ry, rx]\n\u001b[0;32m     32\u001b[0m max_sugar \u001b[38;5;241m=\u001b[39m \u001b[38;5;28mint\u001b[39m(np\u001b[38;5;241m.\u001b[39mamax(sugar))\n",
      "Cell \u001b[1;32mIn[252], line 10\u001b[0m, in \u001b[0;36mget_viewfield\u001b[1;34m(xa, ya, va, Nx, Ny, Alive)\u001b[0m\n\u001b[0;32m      7\u001b[0m ry[\u001b[38;5;241m0\u001b[39m] \u001b[38;5;241m=\u001b[39m ya\n\u001b[0;32m      9\u001b[0m \u001b[38;5;66;03m# Covers all cardinal directions\u001b[39;00m\n\u001b[1;32m---> 10\u001b[0m rx[\u001b[38;5;241m0\u001b[39m \u001b[38;5;241m*\u001b[39m va \u001b[38;5;241m+\u001b[39m \u001b[38;5;241m1\u001b[39m:\u001b[38;5;241m1\u001b[39m \u001b[38;5;241m*\u001b[39m va \u001b[38;5;241m+\u001b[39m \u001b[38;5;241m1\u001b[39m] \u001b[38;5;241m=\u001b[39m xa \u001b[38;5;241m+\u001b[39m np\u001b[38;5;241m.\u001b[39marange(va) \u001b[38;5;241m+\u001b[39m \u001b[38;5;241m1\u001b[39m\n\u001b[0;32m     11\u001b[0m rx[\u001b[38;5;241m1\u001b[39m \u001b[38;5;241m*\u001b[39m va \u001b[38;5;241m+\u001b[39m \u001b[38;5;241m1\u001b[39m:\u001b[38;5;241m2\u001b[39m \u001b[38;5;241m*\u001b[39m va \u001b[38;5;241m+\u001b[39m \u001b[38;5;241m1\u001b[39m] \u001b[38;5;241m=\u001b[39m xa \u001b[38;5;241m-\u001b[39m np\u001b[38;5;241m.\u001b[39marange(va) \u001b[38;5;241m-\u001b[39m \u001b[38;5;241m1\u001b[39m\n\u001b[0;32m     12\u001b[0m ry[\u001b[38;5;241m2\u001b[39m \u001b[38;5;241m*\u001b[39m va \u001b[38;5;241m+\u001b[39m \u001b[38;5;241m1\u001b[39m:\u001b[38;5;241m3\u001b[39m \u001b[38;5;241m*\u001b[39m va \u001b[38;5;241m+\u001b[39m \u001b[38;5;241m1\u001b[39m] \u001b[38;5;241m=\u001b[39m ya \u001b[38;5;241m+\u001b[39m np\u001b[38;5;241m.\u001b[39marange(va) \u001b[38;5;241m+\u001b[39m \u001b[38;5;241m1\u001b[39m\n",
      "\u001b[1;31mKeyboardInterrupt\u001b[0m: "
     ]
    }
   ],
   "source": [
    "SuSca_RGB = convert2RBG(SuSca, RGB0, RGB1)\n",
    "# print(SuSca)\n",
    "\n",
    "plt.figure(figsize=(5, 5))\n",
    "plt.imshow(SuSca_RGB)\n",
    "plt.plot(Agents[\"X position\"], Agents[\"Y position\"], '.', color='k')\n",
    "plt.show()\n",
    "\n",
    "\n",
    "    \n",
    "# Create the image of the game outcome.\n",
    "RGB1 = [1.0, 0.5, 0.0]  # Orange. Color for high values.\n",
    "RGB0 = [1.0, 1.0, 1.0]  # White. Color for low values.\n",
    "\n",
    "MAX_STEP = 1001\n",
    "N_skip = 100\n",
    "step = 0\n",
    "\n",
    "N_alive_agents = np.zeros(MAX_STEP)\n",
    "\n",
    "running = True  # Flag to control the loop.\n",
    "while running:\n",
    "    \n",
    "    N_alive_agents[step] = Agents[\"Alive?\"].sum()\n",
    "\n",
    "    nSuSca, Agents= move_agents(SuSca, Agents) # A, V, S, M, x, y   nA, nV, nS, nM, nx, ny\n",
    "    # print(nSuSca)\n",
    "    if step % N_skip == 0:  \n",
    "        # print(Agents) \n",
    "        SuSca_RGB = convert2RBG(nSuSca, RGB0, RGB1)\n",
    "\n",
    "        plt.figure(figsize=(5, 5))\n",
    "        plt.imshow(SuSca_RGB)\n",
    "        plt.plot(Agents[\"X position\"][Agents[\"Alive?\"]], Agents[\"Y position\"][Agents[\"Alive?\"]], '.', color='k')\n",
    "        plt.show()\n",
    "\n",
    "\n",
    "    step += 1\n",
    "    \n",
    "    if step >= MAX_STEP:\n",
    "        running = False\n",
    "\n",
    "\n",
    "Agents1 = Agents.copy()\n",
    "\n"
   ]
  },
  {
   "cell_type": "markdown",
   "metadata": {},
   "source": [
    "Compare histograms:"
   ]
  },
  {
   "cell_type": "code",
   "execution_count": null,
   "metadata": {},
   "outputs": [
    {
     "name": "stdout",
     "output_type": "stream",
     "text": [
      "400\n"
     ]
    }
   ],
   "source": [
    "print(A)"
   ]
  },
  {
   "cell_type": "markdown",
   "metadata": {},
   "source": [
    "#### Metabolism"
   ]
  },
  {
   "cell_type": "code",
   "execution_count": null,
   "metadata": {},
   "outputs": [
    {
     "ename": "NameError",
     "evalue": "name 'M0' is not defined",
     "output_type": "error",
     "traceback": [
      "\u001b[1;31m---------------------------------------------------------------------------\u001b[0m",
      "\u001b[1;31mNameError\u001b[0m                                 Traceback (most recent call last)",
      "Cell \u001b[1;32mIn[131], line 4\u001b[0m\n\u001b[0;32m      2\u001b[0m m_bins \u001b[38;5;241m=\u001b[39m possible_m\n\u001b[0;32m      3\u001b[0m m_bins_edges \u001b[38;5;241m=\u001b[39m np\u001b[38;5;241m.\u001b[39marange(np\u001b[38;5;241m.\u001b[39mamin(possible_m) \u001b[38;5;241m-\u001b[39m \u001b[38;5;241m0.5\u001b[39m, np\u001b[38;5;241m.\u001b[39mamax(possible_m) \u001b[38;5;241m+\u001b[39m \u001b[38;5;241m0.6\u001b[39m)\n\u001b[1;32m----> 4\u001b[0m m_ini_h, m_ini_e \u001b[38;5;241m=\u001b[39m np\u001b[38;5;241m.\u001b[39mhistogram(\u001b[43mM0\u001b[49m, bins\u001b[38;5;241m=\u001b[39mm_bins_edges)\n\u001b[0;32m      5\u001b[0m m_fin_h, m_fin_e \u001b[38;5;241m=\u001b[39m np\u001b[38;5;241m.\u001b[39mhistogram(M1, bins\u001b[38;5;241m=\u001b[39mm_bins_edges)\n\u001b[0;32m      8\u001b[0m plt\u001b[38;5;241m.\u001b[39mfigure(figsize\u001b[38;5;241m=\u001b[39m(\u001b[38;5;241m10\u001b[39m, \u001b[38;5;241m5\u001b[39m))\n",
      "\u001b[1;31mNameError\u001b[0m: name 'M0' is not defined"
     ]
    }
   ],
   "source": [
    "# Metabolism: initial and final distribution.\n",
    "m_bins = possible_m\n",
    "m_bins_edges = np.arange(np.amin(possible_m) - 0.5, np.amax(possible_m) + 0.6)\n",
    "m_ini_h, m_ini_e = np.histogram(M0, bins=m_bins_edges)\n",
    "m_fin_h, m_fin_e = np.histogram(M1, bins=m_bins_edges)\n",
    "\n",
    "\n",
    "plt.figure(figsize=(10, 5))\n",
    "plt.bar(m_bins, m_ini_h, width=0.8, edgecolor='k', label='initial')\n",
    "plt.bar(m_bins, m_fin_h, width=0.4, edgecolor='k', label='final')\n",
    "plt.legend()\n",
    "plt.xlabel('m')\n",
    "plt.title('metabolism')\n",
    "plt.show()\n",
    "\n",
    "\n",
    "\n"
   ]
  },
  {
   "cell_type": "markdown",
   "metadata": {},
   "source": [
    "#### Vision"
   ]
  },
  {
   "cell_type": "code",
   "execution_count": null,
   "metadata": {},
   "outputs": [],
   "source": [
    "# Vision: initial and final distribution.\n",
    "v_bins = possible_v\n",
    "v_bins_edges = np.arange(np.amin(possible_v) - 0.5, np.amax(possible_v) + 0.6)\n",
    "v_ini_h, v_ini_e = np.histogram(V0, bins=v_bins_edges)\n",
    "v_fin_h, v_fin_e = np.histogram(V1, bins=v_bins_edges)\n",
    "\n",
    "\n",
    "plt.figure(figsize=(10, 5))\n",
    "plt.bar(v_bins, v_ini_h, width=0.8, edgecolor='k', label='initial')\n",
    "plt.bar(v_bins, v_fin_h, width=0.4, edgecolor='k', label='final')\n",
    "plt.legend()\n",
    "plt.xlabel('v')\n",
    "plt.title('vision')\n",
    "plt.show()\n"
   ]
  },
  {
   "cell_type": "markdown",
   "metadata": {},
   "source": [
    "#### Sugar"
   ]
  },
  {
   "cell_type": "code",
   "execution_count": null,
   "metadata": {},
   "outputs": [],
   "source": [
    "# Sugar: initial and final distribution.\n",
    "s_bins_i = possible_s\n",
    "s_bins_edges_i = np.arange(np.amin(possible_s) - 0.5, np.amax(possible_s) + 0.6)\n",
    "s_ini_h, s_ini_e = np.histogram(S0, bins=s_bins_edges_i)\n",
    "\n",
    "plt.figure(figsize=(10, 5))\n",
    "plt.bar(s_bins_i, s_ini_h, width=0.8, edgecolor='k', label='initial')\n",
    "plt.legend()\n",
    "plt.xlabel('s')\n",
    "plt.title('sugar')\n",
    "plt.show()\n",
    "\n",
    "\n"
   ]
  },
  {
   "cell_type": "markdown",
   "metadata": {},
   "source": [
    "### Lorenz curve and Gini coefficient.\n",
    "\n",
    "Measure of equality in wealth / resources distribution "
   ]
  },
  {
   "cell_type": "code",
   "execution_count": null,
   "metadata": {},
   "outputs": [],
   "source": [
    "def Lorenz_curve(s):\n",
    "    \"\"\"\n",
    "    Function to generate the Lorenz curve from a sequence of data.\n",
    "    \n",
    "    Parameters\n",
    "    ==========\n",
    "    s : Sugar of each agent.\n",
    "    \"\"\"\n",
    "    \n",
    "    N = np.size(s)\n",
    "    \n",
    "    population_fraction = np.arange(N) / N\n",
    "    \n",
    "    s_sorted = np.sort(s)\n",
    "    \n",
    "    cumulative_s_fraction = np.cumsum(s_sorted) / np.sum(s_sorted)\n",
    "    \n",
    "    \n",
    "    return cumulative_s_fraction, population_fraction"
   ]
  },
  {
   "cell_type": "code",
   "execution_count": null,
   "metadata": {},
   "outputs": [],
   "source": [
    "L0, F0 = Lorenz_curve(S0)\n",
    "\n",
    "\n",
    "plt.figure(figsize=(5, 5))\n",
    "plt.plot(F0, L0, '.-', label='initial')\n",
    "plt.plot([0, 1], [0, 1], '--', color='k', label='equality')\n",
    "plt.legend()\n",
    "plt.xlabel('F')\n",
    "plt.ylabel('L')\n",
    "plt.title('sugar')\n",
    "plt.show()\n",
    "\n",
    "\n"
   ]
  },
  {
   "cell_type": "code",
   "execution_count": null,
   "metadata": {},
   "outputs": [],
   "source": []
  }
 ],
 "metadata": {
  "kernelspec": {
   "display_name": "Python 3",
   "language": "python",
   "name": "python3"
  },
  "language_info": {
   "codemirror_mode": {
    "name": "ipython",
    "version": 3
   },
   "file_extension": ".py",
   "mimetype": "text/x-python",
   "name": "python",
   "nbconvert_exporter": "python",
   "pygments_lexer": "ipython3",
   "version": "3.11.9"
  }
 },
 "nbformat": 4,
 "nbformat_minor": 4
}

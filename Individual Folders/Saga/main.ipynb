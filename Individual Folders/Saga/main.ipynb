{
 "cells": [
  {
   "cell_type": "code",
   "execution_count": 14,
   "metadata": {},
   "outputs": [],
   "source": [
    "import numpy as np\n",
    "import pandas as pd\n",
    "import random\n",
    "from random import sample\n",
    "from IPython.display import clear_output\n",
    "from matplotlib import pyplot as plt\n",
    "from tqdm import tqdm\n",
    "\n",
    "random.seed(0)"
   ]
  },
  {
   "cell_type": "markdown",
   "metadata": {},
   "source": [
    "Initialize the sugarscape in the \"classical\" way."
   ]
  },
  {
   "cell_type": "code",
   "execution_count": 15,
   "metadata": {},
   "outputs": [],
   "source": [
    "def initialize_sugarscape(N):\n",
    "    \"\"\"\n",
    "    Function to generate the \"classical\" sugarscape.\n",
    "    \n",
    "    Parameters\n",
    "    ==========\n",
    "    N : Side of the sugarscape lattice.\n",
    "    \"\"\"\n",
    "    \n",
    "    SuSca = np.zeros([N, N])\n",
    "    X, Y = np.meshgrid(np.arange(N), np.arange(N))\n",
    "    \n",
    "    x_centers = np.array([N / 4, 3 * N / 4])\n",
    "    y_centers = np.array([N / 4, 3 * N / 4])\n",
    "\n",
    "    r_levels = np.array([4, 3, 2, 1]) / 4 * (np.sqrt(2) / 4) * N\n",
    "    s_levels = np.array([1, 2, 3, 4])\n",
    "    \n",
    "    for k in range(np.size(x_centers)):\n",
    "        d = np.sqrt((X - x_centers[k]) ** 2 +\n",
    "                    (Y - y_centers[k]) ** 2)\n",
    "        for i in range(np.size(s_levels)):\n",
    "            region = np.where(d <= r_levels[i])\n",
    "            SuSca[region[0], region[1]] = s_levels[i]\n",
    "    \n",
    "    return SuSca\n"
   ]
  },
  {
   "cell_type": "markdown",
   "metadata": {},
   "source": [
    "Function to convert a 2 dimensional numpy array into a RGB image."
   ]
  },
  {
   "cell_type": "code",
   "execution_count": 16,
   "metadata": {},
   "outputs": [],
   "source": [
    "def convert2RBG(SuSca, RGB0, RGB1):\n",
    "    \"\"\"\n",
    "    Function to convert the 2 dimensional numpy array into a RGB image.\n",
    "    \n",
    "    Parameters\n",
    "    ==========\n",
    "    game_outcome : Outcome of the prisoner's dilemma.\n",
    "    RGB0 : Components R, G, B of the chosen color shade for minimum I_profile.\n",
    "    RGB1 : Components R, G, B of the chosen color shade for maximum I_profile.\n",
    "    \"\"\"\n",
    "    game_outcome = SuSca.copy()\n",
    "    \n",
    "    [n_rows, n_cols] = game_outcome.shape\n",
    "    \n",
    "    I_RGB = np.zeros([n_rows, n_cols, 3])\n",
    "    \n",
    "    # Set I_profile between 0 and 1\n",
    "    game_outcome -= np.amin(game_outcome)    \n",
    "    game_outcome /= 4 #np.amax(game_outcome)  \n",
    "    \n",
    "    for c in range(3):\n",
    "        I_RGB[:, :, c] = game_outcome * RGB1[c] + (1 - game_outcome) * RGB0[c]\n",
    "\n",
    "    return I_RGB"
   ]
  },
  {
   "cell_type": "markdown",
   "metadata": {},
   "source": [
    "Check whether the initialization works."
   ]
  },
  {
   "cell_type": "code",
   "execution_count": 17,
   "metadata": {},
   "outputs": [],
   "source": [
    "def get_viewfield(xa, ya, va, Nx, Ny, Alive):\n",
    "    rx = np.zeros(va * 4 + 1) + xa\n",
    "    ry = np.zeros(va * 4 + 1) + ya\n",
    "\n",
    "    # First position is the current agents\n",
    "    rx[0] = xa\n",
    "    ry[0] = ya\n",
    "    \n",
    "    # Covers all cardinal directions\n",
    "    rx[0 * va + 1:1 * va + 1] = xa + np.arange(va) + 1\n",
    "    rx[1 * va + 1:2 * va + 1] = xa - np.arange(va) - 1\n",
    "    ry[2 * va + 1:3 * va + 1] = ya + np.arange(va) + 1\n",
    "    ry[3 * va + 1:4 * va + 1] = ya - np.arange(va) - 1\n",
    "    \n",
    "    # Wrapping around boundaries\n",
    "    rx = rx.astype(int) % Nx\n",
    "    ry = ry.astype(int) % Ny\n",
    "\n",
    "    A_view = list(zip(rx.tolist(), ry.tolist()))\n",
    "    mask = [True]+[item not in Alive for item in A_view[1:]]\n",
    "    indices = np.where(mask)[0] \n",
    "    A_view = np.array(A_view )\n",
    "\n",
    "    rx, ry = zip(*A_view[indices])\n",
    "    rx = list(rx)\n",
    "    ry = list(ry)\n",
    "\n",
    "    return rx, ry"
   ]
  },
  {
   "cell_type": "code",
   "execution_count": 18,
   "metadata": {},
   "outputs": [],
   "source": [
    "def move_agents(SuSca, Agents):\n",
    "\n",
    "    Nx,Ny = SuSca.shape\n",
    "    nSuSca = SuSca.copy()\n",
    "\n",
    "    # New_Agents = Agents.copy() \n",
    "    Alive_indices = np.where(Agents[\"Alive?\"]==True)[0]\n",
    "\n",
    "    Alive_x = Agents[\"X position\"][Agents[\"Alive?\"]].copy()\n",
    "    Alive_y = Agents[\"Y position\"][Agents[\"Alive?\"]].copy()\n",
    "\n",
    "    Alive = list(zip(Alive_x, Alive_y))\n",
    "\n",
    "    # Define the order of the agents in this round.   \n",
    "    order = np.random.permutation(Alive_indices)\n",
    "    x = np.array(Agents[\"X position\"].copy())\n",
    "    y = np.array(Agents[\"Y position\"].copy())\n",
    "    v = np.array(Agents[\"Vision\"].copy())\n",
    "    s = np.array(Agents[\"Sugar\"].copy())\n",
    "    m = np.array(Agents[\"Metabolism\"].copy())\n",
    "    a = np.array(Agents[\"Alive?\"].copy())\n",
    "\n",
    "    for ia in order:\n",
    "\n",
    "        xa = x[ia]\n",
    "        ya = y[ia]\n",
    "        va = v[ia]\n",
    "\n",
    "        rx, ry = get_viewfield(xa, ya, va, Nx, Ny, Alive)\n",
    "        \n",
    "        Sugar = nSuSca[ry, rx]\n",
    "        max_sugar = int(np.amax(Sugar))\n",
    "        pos = np.where(Sugar == max_sugar)[0][-1]\n",
    "\n",
    "        x_ref = rx[pos] % Nx\n",
    "        y_ref = ry[pos] % Ny\n",
    "\n",
    "        x[ia] = x_ref\n",
    "        y[ia] = y_ref\n",
    "        s[ia] += nSuSca[y_ref,x_ref]\n",
    "        s[ia] -= m[ia]\n",
    "        nSuSca[y_ref,x_ref] = 0\n",
    "\n",
    "        not_alive = np.where(s <= 0)[0]\n",
    "        a[not_alive] = False\n",
    "\n",
    "    Agents[\"X position\"] = x\n",
    "    Agents[\"Y position\"] = y\n",
    "    Agents[\"Vision\"] = v\n",
    "    Agents[\"Sugar\"] = s\n",
    "    Agents[\"Metabolism\"] = m\n",
    "    Agents[\"Alive?\"] = a\n",
    "\n",
    "\n",
    "        \n",
    "    return nSuSca, Agents\n",
    "\n"
   ]
  },
  {
   "cell_type": "markdown",
   "metadata": {},
   "source": [
    "Now let's try without animation."
   ]
  },
  {
   "cell_type": "code",
   "execution_count": 19,
   "metadata": {},
   "outputs": [],
   "source": [
    "def generate_numbers(N_properties, tot_value ):\n",
    "\n",
    "    agent = np.ones(N_properties)\n",
    "    agent_vector = np.random.rand(N_properties)\n",
    "    normalized_vector = np.round(agent_vector / np.sum(agent_vector) * (tot_value - N_properties)) + 1\n",
    "    diff = tot_value - np.sum(normalized_vector)\n",
    "    \n",
    "    for _ in range(abs(int(diff))):\n",
    "        if diff > 0:\n",
    "            normalized_vector[np.argmin(normalized_vector)] += 1\n",
    "        elif diff < 0:\n",
    "            normalized_vector[np.argmax(normalized_vector)] -= 1\n",
    "    return (normalized_vector.astype(int))"
   ]
  },
  {
   "cell_type": "code",
   "execution_count": 20,
   "metadata": {},
   "outputs": [],
   "source": [
    "def mutation(Agents, i_agent, mutation_rate, properties): # Swap two features with a chance of mutation rate\n",
    "    if np.random.rand() < mutation_rate:\n",
    "        p = properties + 1\n",
    "        i = random.randint(2, p)\n",
    "        j = random.randint(2, p)\n",
    "        \n",
    "        while i == j:\n",
    "            j = random.randint(2, p)\n",
    "\n",
    "        placeholder = Agents.iloc[i_agent, i]    \n",
    "        Agents.iloc[i_agent, i] = Agents.iloc[i_agent, j] \n",
    "        Agents.iloc[i_agent, j] = placeholder\n",
    "        "
   ]
  },
  {
   "cell_type": "code",
   "execution_count": 21,
   "metadata": {},
   "outputs": [],
   "source": [
    "# Fitness might be amount of Sugar after a specific amount of turns? \n"
   ]
  },
  {
   "cell_type": "code",
   "execution_count": 22,
   "metadata": {},
   "outputs": [],
   "source": [
    "def select_parents(agents, num_parents):\n",
    "    parents = []\n",
    "    for _ in range(num_parents):\n",
    "        selected = agents.sample(3)  # Select 3 random agents for the tournament\n",
    "        parent = selected.loc[selected[\"Sugar\"].idxmax()]  # Select the best one\n",
    "        parents.append(parent)\n",
    "    return pd.DataFrame(parents)"
   ]
  },
  {
   "cell_type": "code",
   "execution_count": 23,
   "metadata": {},
   "outputs": [],
   "source": [
    "def crossover(parent1, parent2):\n",
    "    crossover_point = np.random.randint(0, 3)  # Randomly choose a point (since there are 3 traits)\n",
    "    \n",
    "    child1 = parent1.copy()\n",
    "    child2 = parent2.copy()\n",
    "\n",
    "    # Swap the genes after the crossover point\n",
    "    if crossover_point == 0:\n",
    "        child1['Sugar'], child2['Sugar'] = parent2['Sugar'], parent1['Sugar']\n",
    "    elif crossover_point == 1:\n",
    "        child1['Metabolism'], child2['Metabolism'] = parent2['Metabolism'], parent1['Metabolism']\n",
    "    elif crossover_point == 2:\n",
    "        child1['Vision'], child2['Vision'] = parent2['Vision'], parent1['Vision']\n",
    "    \n",
    "    return child1, child2"
   ]
  },
  {
   "cell_type": "code",
   "execution_count": 24,
   "metadata": {},
   "outputs": [
    {
     "name": "stderr",
     "output_type": "stream",
     "text": [
      "100%|██████████| 4/4 [00:00<00:00, 363.59it/s]"
     ]
    },
    {
     "name": "stdout",
     "output_type": "stream",
     "text": [
      "   X position  Y position  Metabolism  Vision  Property 3  Property 4  Sugar  \\\n",
      "0          27          31           2       5           3           5     17   \n",
      "1          22          34           2       6           2           5     21   \n",
      "2          15           3           4       2           4           5     14   \n",
      "3          10          21           6       3           3           3     17   \n",
      "\n",
      "   Alive?  \n",
      "0    True  \n",
      "1    True  \n",
      "2    True  \n",
      "3    True  \n"
     ]
    },
    {
     "name": "stderr",
     "output_type": "stream",
     "text": [
      "\n"
     ]
    }
   ],
   "source": [
    "N = 50  # Size of the sugarscape with the agents.\n",
    "A = 4  # Number of agents on the sugarscape.\n",
    "mutation_rate = 0.25\n",
    "\n",
    "# Initial values. Chosen from the following flat distributions.\n",
    "possible_m = np.arange(4) + 1  # Metabolic rate.\n",
    "possible_v = np.arange(6) + 1  # Vision.\n",
    "possible_s = np.arange(21) + 5  # Sugar.\n",
    "\n",
    "# Define agents position. \n",
    "L = np.array(sample(range(N * N), A)).astype(int) \n",
    "x = L % N\n",
    "y = ((L - x) / N).astype(int) \n",
    "# This way each agent occupy a different cell.\n",
    "\n",
    "\n",
    "properties = 4\n",
    "total_value = 15\n",
    "\n",
    "data = {\n",
    "    \"X position\": L % N,\n",
    "    \"Y position\": ((L - x) / N).astype(int),\n",
    "    \"Metabolism\": np.full(A, 0, dtype=int),\n",
    "    \"Vision\": np.full(A, 0, dtype=int),\n",
    "    \"Property 3\": np.full(A, 0, dtype=int),\n",
    "    \"Property 4\": np.full(A, 0, dtype=int),\n",
    "    \"Sugar\": np.random.randint(np.size(possible_s), size=A) + 5,\n",
    "    \"Alive?\": np.full(A, True, dtype=bool)    \n",
    "}\n",
    "\n",
    "Agents = pd.DataFrame(data)\n",
    "\n",
    "for i in tqdm(range(A)):\n",
    "\n",
    "    Agent = generate_numbers(properties, total_value)\n",
    "    Agents.loc[i, [\"Metabolism\", \"Vision\",\"Property 3\", \"Property 4\"]] = list(Agent)\n",
    "\n",
    "print(Agents)\n",
    "Agents0 = Agents.copy()\n",
    "\n",
    "SuSca = initialize_sugarscape(N)\n"
   ]
  },
  {
   "cell_type": "code",
   "execution_count": 25,
   "metadata": {},
   "outputs": [
    {
     "name": "stdout",
     "output_type": "stream",
     "text": [
      "   X position  Y position  Metabolism  Vision  Property 3  Property 4  Sugar  \\\n",
      "1          22          34           2       6           2           5     21   \n",
      "1          22          34           2       6           2           5     21   \n",
      "1          22          34           2       6           2           5     21   \n",
      "1          22          34           2       6           2           5     21   \n",
      "\n",
      "   Alive?  \n",
      "1    True  \n",
      "1    True  \n",
      "1    True  \n",
      "1    True  \n"
     ]
    }
   ],
   "source": [
    "selected_parents = select_parents(Agents, A)\n",
    "print(selected_parents)"
   ]
  },
  {
   "cell_type": "code",
   "execution_count": 26,
   "metadata": {},
   "outputs": [],
   "source": [
    "# # Does not work yet!\n",
    "\n",
    "# data = {\n",
    "#     \"X position\": L % N,\n",
    "#     \"Y position\": ((L - x) / N).astype(int),\n",
    "#     \"Metabolism\": np.full(A, 0, dtype=int),\n",
    "#     \"Vision\": np.full(A, 0, dtype=int),\n",
    "#     \"Property 3\": np.full(A, 0, dtype=int),\n",
    "#     \"Property 4\": np.full(A, 0, dtype=int),\n",
    "#     \"Sugar\": np.random.randint(np.size(possible_s), size=A) + 5,\n",
    "#     \"Alive?\": np.full(A, True, dtype=bool)    \n",
    "# }\n",
    "\n",
    "# New_Agents = pd.DataFrame(data)\n",
    "\n",
    "# for i in range(A-1):\n",
    "#     c1,c2 = crossover(selected_parents.iloc[i], selected_parents.iloc[i+1])\n",
    "#     New_Agents.loc[i, [\"Metabolism\", \"Vision\", \"Sugar\"]] = c1.loc[[\"Metabolism\", \"Vision\", \"Sugar\"]]\n",
    "#     New_Agents.loc[i+1, [\"Metabolism\", \"Vision\", \"Sugar\"]] = c2.loc[[\"Metabolism\", \"Vision\", \"Sugar\"]]\n",
    "\n",
    "\n",
    "# print(New_Agents)\n",
    "# print(New_Agents.iloc[5,0])"
   ]
  },
  {
   "cell_type": "code",
   "execution_count": 27,
   "metadata": {},
   "outputs": [],
   "source": [
    "# mutation_rate = 0.25\n",
    "# for i in range(A):\n",
    "#     mutation(Agents, i, mutation_rate, properties)\n",
    "\n",
    "# print(Agents)"
   ]
  },
  {
   "cell_type": "code",
   "execution_count": 28,
   "metadata": {},
   "outputs": [],
   "source": [
    "# print(M, V, S)\n",
    "\n",
    "# New Initialize agents\n",
    "# data = {\n",
    "#     \"X position\": L % N,\n",
    "#     \"Y position\": ((L - x) / N).astype(int),\n",
    "#     \"Metabolism\": np.random.randint(np.size(possible_m), size=A)+1,\n",
    "#     \"Vision\": np.random.randint(np.size(possible_v), size=A) + 1,\n",
    "#     \"Sugar\": np.random.randint(np.size(possible_s), size=A) + 5,\n",
    "#     \"Alive?\": np.full(A, True, dtype=bool)    \n",
    "# }\n",
    "\n",
    "# Agents initialized. \n",
    "# data = {\n",
    "#     \"X position\": L % N,\n",
    "#     \"Y position\": ((L - x) / N).astype(int),\n",
    "#     \"Metabolism\": 1,\n",
    "#     \"Vision\": 3,\n",
    "#     \"Sugar\": 5,\n",
    "#     \"Alive?\": np.full(A, True, dtype=bool)    \n",
    "# }"
   ]
  },
  {
   "cell_type": "code",
   "execution_count": 29,
   "metadata": {},
   "outputs": [],
   "source": [
    "# RGB1 = [1.0, 0.5, 0.0]  # Orange. Color for high values.\n",
    "# RGB0 = [1.0, 1.0, 1.0]  # White. Color for low values.\n",
    "\n",
    "\n",
    "\n",
    "# Alive_agents = np.where(Agents[\"Alive?\"]==True)[0]\n",
    "\n",
    "# SuSca_RGB = convert2RBG(SuSca, RGB0, RGB1)\n",
    "\n",
    "# plt.figure(figsize=(5, 5))\n",
    "# plt.imshow(SuSca_RGB)\n",
    "# plt.plot(Agents[\"X position\"][Alive_agents], Agents[\"Y position\"][Alive_agents], '.', color='k')\n",
    "# plt.show()\n",
    "\n",
    "# SuSca, Agents = move_agents(SuSca, Agents)\n",
    "\n",
    "# SuSca_RGB = convert2RBG(SuSca, RGB0, RGB1)\n",
    "\n",
    "# plt.figure(figsize=(5, 5))\n",
    "# plt.imshow(SuSca_RGB)\n",
    "# plt.plot(Agents[\"X position\"][Alive_agents], Agents[\"Y position\"][Alive_agents], '.', color='k')\n",
    "# plt.show()"
   ]
  },
  {
   "cell_type": "code",
   "execution_count": 30,
   "metadata": {},
   "outputs": [
    {
     "data": {
      "image/png": "[encoded data removed]",
      "text/plain": [
       "<Figure size 500x500 with 1 Axes>"
      ]
     },
     "metadata": {},
     "output_type": "display_data"
    }
   ],
   "source": [
    "RGB1 = [1.0, 0.5, 0.0]  # Orange. Color for high values.\n",
    "RGB0 = [1.0, 1.0, 1.0]  # White. Color for low values.\n",
    "\n",
    "SuSca_RGB = convert2RBG(SuSca, RGB0, RGB1)\n",
    "# print(SuSca)\n",
    "\n",
    "plt.figure(figsize=(5, 5))\n",
    "plt.imshow(SuSca_RGB)\n",
    "plt.plot(Agents[\"X position\"], Agents[\"Y position\"], '.', color='k')\n",
    "plt.show()\n",
    "\n",
    "# print(Agents)"
   ]
  },
  {
   "cell_type": "code",
   "execution_count": 31,
   "metadata": {},
   "outputs": [
    {
     "data": {
      "image/png": "[encoded data removed]",
      "text/plain": [
       "<Figure size 500x500 with 1 Axes>"
      ]
     },
     "metadata": {},
     "output_type": "display_data"
    },
    {
     "data": {
      "image/png": "[encoded data removed]",
      "text/plain": [
       "<Figure size 500x500 with 1 Axes>"
      ]
     },
     "metadata": {},
     "output_type": "display_data"
    },
    {
     "ename": "TypeError",
     "evalue": "select_parents() missing 1 required positional argument: 'num_parents'",
     "output_type": "error",
     "traceback": [
      "\u001b[1;31m---------------------------------------------------------------------------\u001b[0m",
      "\u001b[1;31mTypeError\u001b[0m                                 Traceback (most recent call last)",
      "Cell \u001b[1;32mIn[31], line 43\u001b[0m\n\u001b[0;32m     40\u001b[0m \u001b[38;5;28;01mif\u001b[39;00m step \u001b[38;5;241m%\u001b[39m \u001b[38;5;241m20\u001b[39m \u001b[38;5;241m==\u001b[39m \u001b[38;5;241m0\u001b[39m:\n\u001b[0;32m     41\u001b[0m     New_Agents \u001b[38;5;241m=\u001b[39m Agents\u001b[38;5;241m.\u001b[39mcopy()\n\u001b[1;32m---> 43\u001b[0m     \u001b[43mselect_parents\u001b[49m\u001b[43m(\u001b[49m\u001b[43mNew_Agents\u001b[49m\u001b[43m)\u001b[49m\n\u001b[0;32m     46\u001b[0m \u001b[38;5;28;01mif\u001b[39;00m step \u001b[38;5;241m>\u001b[39m\u001b[38;5;241m=\u001b[39m MAX_STEP:\n\u001b[0;32m     47\u001b[0m     running \u001b[38;5;241m=\u001b[39m \u001b[38;5;28;01mFalse\u001b[39;00m\n",
      "\u001b[1;31mTypeError\u001b[0m: select_parents() missing 1 required positional argument: 'num_parents'"
     ]
    }
   ],
   "source": [
    "SuSca_RGB = convert2RBG(SuSca, RGB0, RGB1)\n",
    "# print(SuSca)\n",
    "\n",
    "plt.figure(figsize=(5, 5))\n",
    "plt.imshow(SuSca_RGB)\n",
    "plt.plot(Agents[\"X position\"], Agents[\"Y position\"], '.', color='k')\n",
    "plt.show()\n",
    "\n",
    "\n",
    "    \n",
    "# Create the image of the game outcome.\n",
    "RGB1 = [1.0, 0.5, 0.0]  # Orange. Color for high values.\n",
    "RGB0 = [1.0, 1.0, 1.0]  # White. Color for low values.\n",
    "\n",
    "MAX_STEP = 1001\n",
    "N_skip = 100\n",
    "step = 0\n",
    "\n",
    "N_alive_agents = np.zeros(MAX_STEP)\n",
    "\n",
    "running = True  # Flag to control the loop.\n",
    "while running:\n",
    "    \n",
    "    N_alive_agents[step] = Agents[\"Alive?\"].sum()\n",
    "\n",
    "    nSuSca, Agents= move_agents(SuSca, Agents) # A, V, S, M, x, y   nA, nV, nS, nM, nx, ny\n",
    "    # print(nSuSca)\n",
    "    if step % N_skip == 0:  \n",
    "        # print(Agents) \n",
    "        SuSca_RGB = convert2RBG(nSuSca, RGB0, RGB1)\n",
    "\n",
    "        plt.figure(figsize=(5, 5))\n",
    "        plt.imshow(SuSca_RGB)\n",
    "        plt.plot(Agents[\"X position\"][Agents[\"Alive?\"]], Agents[\"Y position\"][Agents[\"Alive?\"]], '.', color='k')\n",
    "        plt.show()\n",
    "\n",
    "\n",
    "    step += 1\n",
    "\n",
    "    if step % 20 == 0:\n",
    "        New_Agents = Agents.copy()\n",
    "\n",
    "        select_parents(New_Agents)\n",
    "        \n",
    "            \n",
    "    if step >= MAX_STEP:\n",
    "        running = False\n",
    "\n",
    "\n",
    "Agents1 = Agents.copy()\n",
    "\n"
   ]
  },
  {
   "cell_type": "markdown",
   "metadata": {},
   "source": [
    "Compare histograms:"
   ]
  },
  {
   "cell_type": "code",
   "execution_count": null,
   "metadata": {},
   "outputs": [
    {
     "name": "stdout",
     "output_type": "stream",
     "text": [
      "400\n"
     ]
    }
   ],
   "source": [
    "print(A)"
   ]
  },
  {
   "cell_type": "markdown",
   "metadata": {},
   "source": [
    "#### Metabolism"
   ]
  },
  {
   "cell_type": "code",
   "execution_count": null,
   "metadata": {},
   "outputs": [
    {
     "ename": "NameError",
     "evalue": "name 'M0' is not defined",
     "output_type": "error",
     "traceback": [
      "\u001b[1;31m---------------------------------------------------------------------------\u001b[0m",
      "\u001b[1;31mNameError\u001b[0m                                 Traceback (most recent call last)",
      "Cell \u001b[1;32mIn[131], line 4\u001b[0m\n\u001b[0;32m      2\u001b[0m m_bins \u001b[38;5;241m=\u001b[39m possible_m\n\u001b[0;32m      3\u001b[0m m_bins_edges \u001b[38;5;241m=\u001b[39m np\u001b[38;5;241m.\u001b[39marange(np\u001b[38;5;241m.\u001b[39mamin(possible_m) \u001b[38;5;241m-\u001b[39m \u001b[38;5;241m0.5\u001b[39m, np\u001b[38;5;241m.\u001b[39mamax(possible_m) \u001b[38;5;241m+\u001b[39m \u001b[38;5;241m0.6\u001b[39m)\n\u001b[1;32m----> 4\u001b[0m m_ini_h, m_ini_e \u001b[38;5;241m=\u001b[39m np\u001b[38;5;241m.\u001b[39mhistogram(\u001b[43mM0\u001b[49m, bins\u001b[38;5;241m=\u001b[39mm_bins_edges)\n\u001b[0;32m      5\u001b[0m m_fin_h, m_fin_e \u001b[38;5;241m=\u001b[39m np\u001b[38;5;241m.\u001b[39mhistogram(M1, bins\u001b[38;5;241m=\u001b[39mm_bins_edges)\n\u001b[0;32m      8\u001b[0m plt\u001b[38;5;241m.\u001b[39mfigure(figsize\u001b[38;5;241m=\u001b[39m(\u001b[38;5;241m10\u001b[39m, \u001b[38;5;241m5\u001b[39m))\n",
      "\u001b[1;31mNameError\u001b[0m: name 'M0' is not defined"
     ]
    }
   ],
   "source": [
    "# Metabolism: initial and final distribution.\n",
    "m_bins = possible_m\n",
    "m_bins_edges = np.arange(np.amin(possible_m) - 0.5, np.amax(possible_m) + 0.6)\n",
    "m_ini_h, m_ini_e = np.histogram(M0, bins=m_bins_edges)\n",
    "m_fin_h, m_fin_e = np.histogram(M1, bins=m_bins_edges)\n",
    "\n",
    "\n",
    "plt.figure(figsize=(10, 5))\n",
    "plt.bar(m_bins, m_ini_h, width=0.8, edgecolor='k', label='initial')\n",
    "plt.bar(m_bins, m_fin_h, width=0.4, edgecolor='k', label='final')\n",
    "plt.legend()\n",
    "plt.xlabel('m')\n",
    "plt.title('Metabolism')\n",
    "plt.show()\n",
    "\n",
    "\n",
    "\n"
   ]
  },
  {
   "cell_type": "markdown",
   "metadata": {},
   "source": [
    "#### Vision"
   ]
  },
  {
   "cell_type": "code",
   "execution_count": null,
   "metadata": {},
   "outputs": [],
   "source": [
    "# Vision: initial and final distribution.\n",
    "v_bins = possible_v\n",
    "v_bins_edges = np.arange(np.amin(possible_v) - 0.5, np.amax(possible_v) + 0.6)\n",
    "v_ini_h, v_ini_e = np.histogram(V0, bins=v_bins_edges)\n",
    "v_fin_h, v_fin_e = np.histogram(V1, bins=v_bins_edges)\n",
    "\n",
    "\n",
    "plt.figure(figsize=(10, 5))\n",
    "plt.bar(v_bins, v_ini_h, width=0.8, edgecolor='k', label='initial')\n",
    "plt.bar(v_bins, v_fin_h, width=0.4, edgecolor='k', label='final')\n",
    "plt.legend()\n",
    "plt.xlabel('v')\n",
    "plt.title('Vision')\n",
    "plt.show()\n"
   ]
  },
  {
   "cell_type": "markdown",
   "metadata": {},
   "source": [
    "#### Sugar"
   ]
  },
  {
   "cell_type": "code",
   "execution_count": null,
   "metadata": {},
   "outputs": [],
   "source": [
    "# Sugar: initial and final distribution.\n",
    "s_bins_i = possible_s\n",
    "s_bins_edges_i = np.arange(np.amin(possible_s) - 0.5, np.amax(possible_s) + 0.6)\n",
    "s_ini_h, s_ini_e = np.histogram(S0, bins=s_bins_edges_i)\n",
    "\n",
    "plt.figure(figsize=(10, 5))\n",
    "plt.bar(s_bins_i, s_ini_h, width=0.8, edgecolor='k', label='initial')\n",
    "plt.legend()\n",
    "plt.xlabel('s')\n",
    "plt.title('sugar')\n",
    "plt.show()\n",
    "\n",
    "\n"
   ]
  },
  {
   "cell_type": "markdown",
   "metadata": {},
   "source": [
    "### Lorenz curve and Gini coefficient.\n",
    "\n",
    "Measure of equality in wealth / resources distribution "
   ]
  },
  {
   "cell_type": "code",
   "execution_count": null,
   "metadata": {},
   "outputs": [],
   "source": [
    "def Lorenz_curve(s):\n",
    "    \"\"\"\n",
    "    Function to generate the Lorenz curve from a sequence of data.\n",
    "    \n",
    "    Parameters\n",
    "    ==========\n",
    "    s : Sugar of each agent.\n",
    "    \"\"\"\n",
    "    \n",
    "    N = np.size(s)\n",
    "    \n",
    "    population_fraction = np.arange(N) / N\n",
    "    \n",
    "    s_sorted = np.sort(s)\n",
    "    \n",
    "    cumulative_s_fraction = np.cumsum(s_sorted) / np.sum(s_sorted)\n",
    "    \n",
    "    \n",
    "    return cumulative_s_fraction, population_fraction"
   ]
  },
  {
   "cell_type": "code",
   "execution_count": null,
   "metadata": {},
   "outputs": [],
   "source": [
    "L0, F0 = Lorenz_curve(S0)\n",
    "\n",
    "\n",
    "plt.figure(figsize=(5, 5))\n",
    "plt.plot(F0, L0, '.-', label='initial')\n",
    "plt.plot([0, 1], [0, 1], '--', color='k', label='equality')\n",
    "plt.legend()\n",
    "plt.xlabel('F')\n",
    "plt.ylabel('L')\n",
    "plt.title('sugar')\n",
    "plt.show()\n",
    "\n",
    "\n"
   ]
  },
  {
   "cell_type": "code",
   "execution_count": null,
   "metadata": {},
   "outputs": [],
   "source": []
  }
 ],
 "metadata": {
  "kernelspec": {
   "display_name": "Python 3",
   "language": "python",
   "name": "python3"
  },
  "language_info": {
   "codemirror_mode": {
    "name": "ipython",
    "version": 3
   },
   "file_extension": ".py",
   "mimetype": "text/x-python",
   "name": "python",
   "nbconvert_exporter": "python",
   "pygments_lexer": "ipython3",
   "version": "3.12.1"
  }
 },
 "nbformat": 4,
 "nbformat_minor": 4
}

{
 "cells": [
  {
   "cell_type": "markdown",
   "metadata": {},
   "source": [
    "# Chapter 16: The Sugarscape\n",
    "\n",
    "<img src=\"SU_fig_01.jpg\" alt=\"title\" width=\"600px\" />"
   ]
  },
  {
   "cell_type": "markdown",
   "metadata": {},
   "source": [
    "## Motivation\n",
    "\n",
    "**The Sugarscape**: Agent-based model with simple rules.\n",
    "Can account for the transformation of a population through:\n",
    "- natural selection \n",
    "- spatial segregation \n",
    "- migration\n",
    "- emergence of wealth inequalities. \n",
    "\n",
    "The model is easily extended by introducing additional rules to add, e.g., trade, reproductive pressure, exchange of information, and environment pollution..\n"
   ]
  },
  {
   "cell_type": "markdown",
   "metadata": {},
   "source": [
    "## Applications\n",
    "\n",
    "- social science\n",
    "- political science\n",
    "- cooperation\n",
    "- economics\n"
   ]
  },
  {
   "cell_type": "markdown",
   "metadata": {},
   "source": [
    "## Schelling's model of segregation\n",
    "\n",
    "Inspiration for the Sugarscape.\n",
    "\n",
    "**Description of the model:**\n",
    "\n",
    "- Town with $N^2$ houses (square lattice with $N \\times N$ cells)\n",
    "\n",
    "- $f$ : fraction of empty, available houses\n",
    "\n",
    "- the rest of the houses is occupied by families of two *kinds* ($A$ and $B$) differing on some characteristics (e.g., language, nutrition habits, religion)\n",
    "\n",
    "- families *positively* discriminate: each family is happy if they are not in the minority within their neighborhood (Moore's neighborhood)\n",
    "\n",
    "- each turn a random family is chosen: if unhappy, it randomly relocates in one of the available empty houses.\n",
    "\n",
    "Schelling showed that **segregation spontaneously emerges**.\n"
   ]
  },
  {
   "cell_type": "markdown",
   "metadata": {},
   "source": [
    "### Implementation\n",
    "\n",
    "Arena with $N \\times N$ houses. $N = 10$.\n",
    "\n",
    "$f$ : fraction of available houses. $f = 0.1$. \n",
    "10 houses are available to relocation if needed.\n",
    "\n",
    "**Happiness:** defined as *not being in the minority* within the Moore's neighborhood.\n",
    "\n",
    "In this implementation, a cell of the lattice with value:\n",
    "\n",
    "- $0$ represents a empty house\n",
    "- $1$ represents a family of type $A$\n",
    "- $-1$ represents a family of type $B$\n",
    "\n",
    "We start by randomly populating the lattice with roughly 50% - 50% proportion of $A$ and $B$ families."
   ]
  },
  {
   "cell_type": "code",
   "execution_count": 4,
   "metadata": {},
   "outputs": [],
   "source": [
    "import numpy as np \n",
    "    \n",
    "def check_family_happiness(L, i, j, f_types):\n",
    "    \"\"\"\n",
    "    Function to check whether the family in i, j is happy.\n",
    "    \n",
    "    Parameters\n",
    "    ==========\n",
    "    L : Lattice representing the town. \n",
    "    i, j : Location of the family to be checked.\n",
    "    f_types : List containing the family types. \n",
    "              Ex: [1, - 1] for the types of families considered above.\n",
    "    \"\"\"\n",
    "    \n",
    "    \n",
    "    Nx, Ny = L.shape\n",
    "    \n",
    "    ci = np.array([(i - 1) % Nx, (i - 1) % Nx, (i - 1) % Nx, \n",
    "                    i, i, i,\n",
    "                    (i + 1) % Nx, (i + 1) % Nx, (i + 1) % Nx]).astype(int)\n",
    "    cj = np.array([(j - 1) % Ny, j, (j + 1) % Ny,\n",
    "                   (j - 1) % Ny, j, (j + 1) % Ny,\n",
    "                   (j - 1) % Ny, j, (j + 1) % Ny]).astype(int)\n",
    "\n",
    "    neighborhood = L[ci, cj]\n",
    "    \n",
    "    N_types = np.size(f_types)\n",
    "    f_counts = np.zeros(N_types)\n",
    "    \n",
    "    for n in range(N_types):\n",
    "        f_counts[n] = np.size(np.where(neighborhood == f_types[n])[0])\n",
    "    \n",
    "    i_ref = np.where(f_types == L[i, j])[0]\n",
    "    \n",
    "    c_similar = f_counts[i_ref]\n",
    "    c_other = np.sum(f_counts) - f_counts[i_ref]\n",
    "    \n",
    "    # Happy if not in the minority.\n",
    "    # '''\n",
    "    if c_similar >= c_other:\n",
    "        happiness = 1\n",
    "    else:\n",
    "        happiness = - 1\n",
    "    # '''\n",
    "\n",
    "    # Happy if not in the majority.\n",
    "    '''\n",
    "    if c_similar > c_other:\n",
    "        happiness = - 1\n",
    "    else:\n",
    "        happiness = 1\n",
    "    '''\n",
    "\n",
    "        \n",
    "    return happiness\n"
   ]
  },
  {
   "cell_type": "markdown",
   "metadata": {},
   "source": [
    "## The Sugarscape.\n",
    "\n",
    "The \"Sugarscape\" is a landscape (in the form of a lattice) where **sugar grows in each cell**.\n",
    "\n",
    "The sugar provides energy and wealth.\n",
    "\n",
    "**Agents explore the landscape** and, while doing it, harvest the sugar. \n",
    "\n",
    "- Each round, each agent move once. They move sequentially. Each round, the order in which the agent move is random.\n",
    "\n",
    "- Two agents can't share the same cell: if an agent can't move on a free cell within its range, it remains in the cell it occupies.\n",
    "\n",
    "- Each agent pays a metabilic cost to remain alive and move on the sugarscape. When their energy (that corresponds to their sugar level) falls below zero then they die of starvation.\n",
    "\n",
    "At the end of each round, the **landscape regrowth the sugar** according to the growth rule $G_{\\rm g}$.\n",
    "\n",
    "For more details: see the book, page 16-5 and on."
   ]
  },
  {
   "cell_type": "markdown",
   "metadata": {},
   "source": [
    "### Features of the Sugarscape.\n",
    "\n",
    "We start from the classical implementation: \n",
    "\n",
    "- squared lattice $N \\times N$\n",
    "\n",
    "- sugar full capacity of each cell: from 0 to 4\n",
    "\n",
    "- landscape shaped like two sugar-hills\n",
    "\n",
    "- rule $G_{\\infty}$: at the end of each round, the sugar regrowth instantly to the maximum capacity of each cell.\n"
   ]
  },
  {
   "cell_type": "markdown",
   "metadata": {},
   "source": [
    "### Agents on the Sugarscape.\n",
    "\n",
    "Agents on sugarsape have the following features:\n",
    "\n",
    "- vision: $v$ (uniform distribution $\\in \\{1, 2, ..., 6 \\}$)\n",
    "- sugar: $s$ (uniform distribution $\\in \\{5, 6, ... 25 \\}$)\n",
    "- metabolism: $m$ (uniform distribution $\\in \\{1, 2, 3, 4 \\}$)\n",
    "\n",
    "The vision determines the motion range.\n",
    "\n",
    "The sugar is a reservoir of energy.\n"
   ]
  },
  {
   "cell_type": "code",
   "execution_count": 7,
   "metadata": {},
   "outputs": [],
   "source": [
    "import numpy as np\n",
    "\n",
    "def move_agents(SuSca, N_alive, V, S, M, x, y):\n",
    "    \"\"\"\n",
    "    Function to move the agents on the sugarscape.\n",
    "    Implements one round where all the agents move once.\n",
    "    \n",
    "    Parameters\n",
    "    ==========\n",
    "    SuSca : Lattice representing the Sugarscape. \n",
    "    N_alive : Number of alive agents.\n",
    "    V : Vision. 1-d numpy array.\n",
    "    S : Sugar. 1-d numpy array.\n",
    "    M : Metabolism. 1-d numpy array.\n",
    "    x : x-position on the lattice of the agents. 1-d numpy array.\n",
    "    y : y-position on the lattice of the agents. 1-d numpy array.\n",
    "    \"\"\"\n",
    "    \n",
    "    Nx, Ny = SuSca.shape\n",
    "    \n",
    "    nSuSca = SuSca.copy()\n",
    "    nx = x.copy()\n",
    "    ny = y.copy()\n",
    "    nS = S.copy()\n",
    "    \n",
    "    # Define the order of the agents in this round.   \n",
    "    order = np.random.permutation(N_alive)\n",
    "    \n",
    "    # For each agent: move it in the range of the vision.\n",
    "    \n",
    "    for na in range(N_alive):\n",
    "        ia = order[na]\n",
    "        # Agent current position.\n",
    "        xa = nx[ia]\n",
    "        ya = ny[ia]\n",
    "        ma = M[ia]  # Metabolic rate.\n",
    "        va = V[ia]  # Vision.\n",
    "        sa = nS[ia]  # Available sugar/energy amount.\n",
    "        \n",
    "        # Cells within the range of the agent.\n",
    "        rx = np.zeros(va * 4 + 1) + xa\n",
    "        ry = np.zeros(va * 4 + 1) + ya\n",
    "        rx[0] = xa\n",
    "        ry[0] = ya\n",
    "        rx[0 * va + 1:1 * va + 1] = xa + np.arange(va) + 1\n",
    "        rx[1 * va + 1:2 * va + 1] = xa - np.arange(va) - 1\n",
    "        ry[2 * va + 1:3 * va + 1] = ya + np.arange(va) + 1\n",
    "        ry[3 * va + 1:4 * va + 1] = ya - np.arange(va) - 1\n",
    "        rx = rx.astype(int) % Nx\n",
    "        ry = ry.astype(int) % Ny\n",
    "\n",
    "        sugar = nSuSca[rx, ry]        \n",
    "        max_sugar = np.amax(sugar)\n",
    "        searching_new_pos = True\n",
    "        sugar_level = int(max_sugar)\n",
    "        \n",
    "        # Agent looks for the best available position.\n",
    "        while searching_new_pos:\n",
    "            # Search options for a certain sugar level.\n",
    "            options = np.where(sugar == sugar_level)[0]\n",
    "            \n",
    "            # For each option, check whether position is already occupied.            \n",
    "            io = 0\n",
    "            place_found = False\n",
    "            while (io < np.size(options)) and (not place_found):\n",
    "                i = options[io]\n",
    "                x_ref = rx[i] % Nx\n",
    "                y_ref = ry[i] % Ny\n",
    "                # Check if the position is available.\n",
    "                a_ref = np.intersect1d(\n",
    "                    np.where(nx == x_ref)[0],\n",
    "                    np.where(ny == y_ref)[0])\n",
    "                if np.size(a_ref) == 0:\n",
    "                    # Position is available\n",
    "                    nx[na] = x_ref \n",
    "                    ny[na] = y_ref\n",
    "                    nS[na] += nSuSca[x_ref, y_ref]  # Agent takes the sugar.\n",
    "                    nSuSca[x_ref, y_ref] = 0   # Sugarscape cell is depleted.\n",
    "                    place_found = True\n",
    "                else:\n",
    "                    # Check whether this is the current position.\n",
    "                    if (x_ref == nx[na]) and (y_ref == ny[na]):\n",
    "                        nS[na] += nSuSca[x_ref, y_ref]  # Agent takes the sugar.\n",
    "                        nSuSca[x_ref, y_ref] = 0   # Sugarscape cell is depleted.\n",
    "                        place_found = True\n",
    "                    else:\n",
    "                        # The position is occupied by someone else.\n",
    "                        io += 1\n",
    "            \n",
    "            # If we are here, we either have found a place or \n",
    "            # exausted the possibilities for this sugar_level\n",
    "            \n",
    "            if not place_found:\n",
    "                if sugar_level > 0:\n",
    "                    sugar_level -= 1\n",
    "                else:\n",
    "                    # The agent stays where it is.                    \n",
    "                    nS[na] += nSuSca[nx[na], ny[na]]  # Agent takes the sugar.\n",
    "                    nSuSca[nx[na], ny[na]] = 0\n",
    "                    searching_new_pos = False\n",
    "            else: \n",
    "                # A place has been found for the agent.\n",
    "                searching_new_pos = False\n",
    "        \n",
    "    \n",
    "    # All agents have moved.\n",
    "    \n",
    "    # Now pay the metabolic price.\n",
    "    nS = nS - M\n",
    "    \n",
    "    # Now check which agents are still alive.\n",
    "    still_alive = np.where(nS > 0)[0]\n",
    "    \n",
    "    N_still_alive = np.size(still_alive)\n",
    "    V_alive = V[still_alive]\n",
    "    S_alive = nS[still_alive]\n",
    "    M_alive = M[still_alive]\n",
    "    x_alive = nx[still_alive]\n",
    "    y_alive = ny[still_alive]\n",
    "        \n",
    "    return nSuSca, N_still_alive, V_alive, S_alive, M_alive, x_alive, y_alive\n",
    "\n",
    "\n"
   ]
  },
  {
   "cell_type": "markdown",
   "metadata": {},
   "source": [
    "Initialize the sugarscape in the \"classical\" way."
   ]
  },
  {
   "cell_type": "code",
   "execution_count": 8,
   "metadata": {},
   "outputs": [],
   "source": [
    "def initialize_sugarscape(N):\n",
    "    \"\"\"\n",
    "    Function to generate the \"classical\" sugarscape.\n",
    "    \n",
    "    Parameters\n",
    "    ==========\n",
    "    N : Side of the sugarscape lattice.\n",
    "    \"\"\"\n",
    "    \n",
    "    SuSca = np.zeros([N, N])\n",
    "    X, Y = np.meshgrid(np.arange(N), np.arange(N))\n",
    "    \n",
    "    x_centers = np.array([N / 4, 3 * N / 4])\n",
    "    y_centers = np.array([N / 4, 3 * N / 4])\n",
    "\n",
    "    r_levels = np.array([4, 3, 2, 1]) / 4 * (np.sqrt(2) / 4) * N\n",
    "    s_levels = np.array([1, 2, 3, 4])\n",
    "    \n",
    "    for k in range(np.size(x_centers)):\n",
    "        d = np.sqrt((X - x_centers[k]) ** 2 +\n",
    "                    (Y - y_centers[k]) ** 2)\n",
    "        for i in range(np.size(s_levels)):\n",
    "            region = np.where(d <= r_levels[i])\n",
    "            SuSca[region[0], region[1]] = s_levels[i]\n",
    "    \n",
    "    return SuSca\n"
   ]
  },
  {
   "cell_type": "markdown",
   "metadata": {},
   "source": [
    "Function to convert a 2 dimensional numpy array into a RGB image."
   ]
  },
  {
   "cell_type": "code",
   "execution_count": 9,
   "metadata": {},
   "outputs": [],
   "source": [
    "def convert2RBG(game_outcome, RGB0, RGB1):\n",
    "    \"\"\"\n",
    "    Function to convert the 2 dimensional numpy array into a RGB image.\n",
    "    \n",
    "    Parameters\n",
    "    ==========\n",
    "    game_outcome : Outcome of the prisoner's dilemma.\n",
    "    RGB0 : Components R, G, B of the chosen color shade for minimum I_profile.\n",
    "    RGB1 : Components R, G, B of the chosen color shade for maximum I_profile.\n",
    "    \"\"\"\n",
    "    \n",
    "    [n_rows, n_cols] = game_outcome.shape\n",
    "    \n",
    "    I_RGB = np.zeros([n_rows, n_cols, 3])\n",
    "    \n",
    "    # Set I_profile between 0 and 1\n",
    "    game_outcome -= np.amin(game_outcome)    \n",
    "    game_outcome /= np.amax(game_outcome)  \n",
    "    \n",
    "    for c in range(3):\n",
    "        I_RGB[:, :, c] = game_outcome * RGB1[c] + (1 - game_outcome) * RGB0[c]\n",
    "\n",
    "    return I_RGB"
   ]
  },
  {
   "cell_type": "markdown",
   "metadata": {},
   "source": [
    "Check whether the initialization works."
   ]
  },
  {
   "cell_type": "code",
   "execution_count": 10,
   "metadata": {},
   "outputs": [
    {
     "data": {
      "image/png": "[encoded data removed]",
      "text/plain": [
       "<Figure size 500x500 with 1 Axes>"
      ]
     },
     "metadata": {},
     "output_type": "display_data"
    }
   ],
   "source": [
    "from matplotlib import pyplot as plt\n",
    "\n",
    "N = 50  # Side of the sugarscape.\n",
    "\n",
    "SuSca = initialize_sugarscape(N)\n",
    "\n",
    "# Create the image of the game outcome.\n",
    "RGB1 = [1.0, 0.5, 0.0]  # Orange. Color for high values.\n",
    "RGB0 = [1.0, 1.0, 1.0]  # White. Color for low values.\n",
    "SuSca_RGB = convert2RBG(SuSca, RGB0, RGB1)\n",
    "\n",
    "# Plot the Sugarscape.\n",
    "plt.figure(figsize=(5, 5))\n",
    "plt.imshow(SuSca_RGB)  # Plot Sugarscape profile.\n",
    "# Plot the reference points.\n",
    "plt.title('Classical Sugarscape')\n",
    "plt.axis('equal')\n",
    "plt.show()       \n"
   ]
  },
  {
   "cell_type": "code",
   "execution_count": null,
   "metadata": {},
   "outputs": [],
   "source": [
    "from random import sample\n",
    "\n",
    "N = 50  # Size of the sugarscape with the agents.\n",
    "A = 400  # Number of agents on the sugarscape.\n",
    "\n",
    "# Initial values. Chosen from the following flat distributions.\n",
    "possible_m = np.arange(4) + 1  # Metabolic rate.\n",
    "possible_v = np.arange(6) + 1  # Vision.\n",
    "possible_s = np.arange(21) + 5  # Sugar.\n",
    "\n",
    "# Agents initialized. \n",
    "M = np.random.randint(np.size(possible_m), size=A) + 1\n",
    "V = np.random.randint(np.size(possible_v), size=A) + 1\n",
    "S = np.random.randint(np.size(possible_s), size=A) + 5\n",
    "\n",
    "# New Initialize agents\n",
    "Agents = [\n",
    "    np.random.randint(np.size(possible_m), size=A),\n",
    "    np.random.randint(np.size(possible_v), size=A) + 1,\n",
    "    np.random.randint(np.size(possible_s), size=A) + 5\n",
    "    ]\n",
    "\n",
    "# Define agents position. \n",
    "L = np.array(sample(range(N * N), A)).astype(int) \n",
    "x = L % N\n",
    "y = ((L - x) / N).astype(int) \n",
    "# This way each agent occupy a different cell.\n",
    "\n",
    "SuSca = initialize_sugarscape(N)"
   ]
  },
  {
   "cell_type": "code",
   "execution_count": 12,
   "metadata": {},
   "outputs": [
    {
     "ename": "TclError",
     "evalue": "invalid command name \".!canvas\"",
     "output_type": "error",
     "traceback": [
      "\u001b[1;31m---------------------------------------------------------------------------\u001b[0m",
      "\u001b[1;31mTclError\u001b[0m                                  Traceback (most recent call last)",
      "Cell \u001b[1;32mIn[12], line 34\u001b[0m\n\u001b[0;32m     32\u001b[0m \u001b[38;5;66;03m# Update animation frame.\u001b[39;00m\n\u001b[0;32m     33\u001b[0m \u001b[38;5;28;01mif\u001b[39;00m step \u001b[38;5;241m%\u001b[39m N_skip \u001b[38;5;241m==\u001b[39m \u001b[38;5;241m0\u001b[39m:        \n\u001b[1;32m---> 34\u001b[0m     \u001b[43mcanvas\u001b[49m\u001b[38;5;241;43m.\u001b[39;49m\u001b[43mdelete\u001b[49m\u001b[43m(\u001b[49m\u001b[38;5;124;43m'\u001b[39;49m\u001b[38;5;124;43mall\u001b[39;49m\u001b[38;5;124;43m'\u001b[39;49m\u001b[43m)\u001b[49m\n\u001b[0;32m     35\u001b[0m     SU_cells \u001b[38;5;241m=\u001b[39m []\n\u001b[0;32m     36\u001b[0m     \u001b[38;5;28;01mfor\u001b[39;00m i \u001b[38;5;129;01min\u001b[39;00m \u001b[38;5;28mrange\u001b[39m(N):\n",
      "File \u001b[1;32mc:\\Users\\sagal\\AppData\\Local\\Programs\\Python\\Python312\\Lib\\tkinter\\__init__.py:2894\u001b[0m, in \u001b[0;36mCanvas.delete\u001b[1;34m(self, *args)\u001b[0m\n\u001b[0;32m   2892\u001b[0m \u001b[38;5;28;01mdef\u001b[39;00m \u001b[38;5;21mdelete\u001b[39m(\u001b[38;5;28mself\u001b[39m, \u001b[38;5;241m*\u001b[39margs):\n\u001b[0;32m   2893\u001b[0m \u001b[38;5;250m    \u001b[39m\u001b[38;5;124;03m\"\"\"Delete items identified by all tag or ids contained in ARGS.\"\"\"\u001b[39;00m\n\u001b[1;32m-> 2894\u001b[0m     \u001b[38;5;28;43mself\u001b[39;49m\u001b[38;5;241;43m.\u001b[39;49m\u001b[43mtk\u001b[49m\u001b[38;5;241;43m.\u001b[39;49m\u001b[43mcall\u001b[49m\u001b[43m(\u001b[49m\u001b[43m(\u001b[49m\u001b[38;5;28;43mself\u001b[39;49m\u001b[38;5;241;43m.\u001b[39;49m\u001b[43m_w\u001b[49m\u001b[43m,\u001b[49m\u001b[43m \u001b[49m\u001b[38;5;124;43m'\u001b[39;49m\u001b[38;5;124;43mdelete\u001b[39;49m\u001b[38;5;124;43m'\u001b[39;49m\u001b[43m)\u001b[49m\u001b[43m \u001b[49m\u001b[38;5;241;43m+\u001b[39;49m\u001b[43m \u001b[49m\u001b[43margs\u001b[49m\u001b[43m)\u001b[49m\n",
      "\u001b[1;31mTclError\u001b[0m: invalid command name \".!canvas\""
     ]
    }
   ],
   "source": [
    "import time \n",
    "from tkinter import Tk\n",
    "from tkinter import Canvas\n",
    "\n",
    "r0 = 0.25\n",
    "N_skip = 1\n",
    "\n",
    "# Visualize status every N_skip steps. \n",
    "window_size = 600\n",
    "\n",
    "cell_color_list = ['#FFFFFF', '#FFECCE', '#FFCE88', '#FFA040', '#FF8000']\n",
    "\n",
    "tk = Tk()\n",
    "tk.geometry(f'{window_size + 20}x{window_size + 20}')\n",
    "tk.configure(background='#000000')\n",
    "\n",
    "canvas = Canvas(tk, background='#ECECEC')  # Generate animation window.\n",
    "tk.attributes('-topmost', 0)\n",
    "canvas.place(x=10, y=10, height=window_size, width=window_size)\n",
    "\n",
    "step = 0\n",
    "\n",
    "def stop_loop(event):\n",
    "    global running\n",
    "    running = False\n",
    "tk.bind(\"<Escape>\", stop_loop)  # Bind the Escape key to stop the loop.\n",
    "running = True  # Flag to control the loop.\n",
    "while running:\n",
    "\n",
    "    nSuSca, nA, nV, nS, nM, nx, ny = move_agents(SuSca, A, V, S, M, x, y)\n",
    "\n",
    "    # Update animation frame.\n",
    "    if step % N_skip == 0:        \n",
    "        canvas.delete('all')\n",
    "        SU_cells = []\n",
    "        for i in range(N):\n",
    "            for j in range(N):\n",
    "                cell_color = cell_color_list[int(nSuSca[i, j])]\n",
    "                #\n",
    "                SU_cells.append(\n",
    "                    canvas.create_rectangle(\n",
    "                        i / N * window_size, \n",
    "                        j / N * window_size,\n",
    "                        (i + 1) / N * window_size,\n",
    "                        (j + 1) / N * window_size, \n",
    "                        outline='', \n",
    "                        fill=cell_color,\n",
    "                    )\n",
    "                )\n",
    "        Agents_circ = []\n",
    "        for i in range(nA):\n",
    "            Agents_circ.append(\n",
    "                canvas.create_oval(\n",
    "                    (nx[i] + 0.5 - r0) / N * window_size, \n",
    "                    (ny[i] + 0.5 - r0) / N * window_size,\n",
    "                    (nx[i] + 0.5 + r0) / N * window_size,\n",
    "                    (ny[i] + 0.5 + r0) / N * window_size, \n",
    "                    outline='', \n",
    "                    fill='#000000',\n",
    "                )\n",
    "            )\n",
    "        \n",
    "        tk.title(f'Iteration {step}')\n",
    "        tk.update_idletasks()\n",
    "        tk.update()\n",
    "        time.sleep(0.1)  # Increase to slow down the simulation.\n",
    "\n",
    "    A = nA\n",
    "    V = nV.copy()\n",
    "    S = nS.copy()\n",
    "    M = nM.copy()\n",
    "    x = nx.copy()\n",
    "    y = ny.copy()\n",
    "    step += 1\n",
    "    \n",
    "tk.update_idletasks()\n",
    "tk.update()\n",
    "tk.mainloop()  # Release animation handle (close window to finish)."
   ]
  },
  {
   "cell_type": "markdown",
   "metadata": {},
   "source": [
    "Now let's try without animation."
   ]
  },
  {
   "cell_type": "code",
   "execution_count": null,
   "metadata": {},
   "outputs": [],
   "source": [
    "from random import sample\n",
    "\n",
    "N = 50  # Size of the sugarscape with the agents.\n",
    "A = 400  # Number of agents on the sugarscape.\n",
    "\n",
    "# Initial values. Chosen from the following flat distributions.\n",
    "possible_m = np.arange(4) + 1  # Metabolic rate.\n",
    "possible_v = np.arange(6) + 1  # Vision.\n",
    "possible_s = np.arange(21) + 5  # Sugar.\n",
    "\n",
    "# Agents initialized. \n",
    "M = np.random.randint(np.size(possible_m), size=A) + 1\n",
    "V = np.random.randint(np.size(possible_v), size=A) + 1\n",
    "S = np.random.randint(np.size(possible_s), size=A) + 5\n",
    "\n",
    "M0 = M.copy()\n",
    "S0 = S.copy()\n",
    "V0 = V.copy()\n",
    "\n",
    "# Define agents position. \n",
    "L = np.array(sample(range(N * N), A)).astype(int) \n",
    "x = L % N\n",
    "y = ((L - x) / N).astype(int) \n",
    "# This way each agent occupy a different cell.\n",
    "\n",
    "SuSca = initialize_sugarscape(N)"
   ]
  },
  {
   "cell_type": "code",
   "execution_count": null,
   "metadata": {},
   "outputs": [
    {
     "data": {
      "image/png": "[encoded data removed]",
      "text/plain": [
       "<Figure size 360x360 with 1 Axes>"
      ]
     },
     "metadata": {
      "needs_background": "light"
     },
     "output_type": "display_data"
    },
    {
     "data": {
      "image/png": "[encoded data removed]",
      "text/plain": [
       "<Figure size 360x360 with 1 Axes>"
      ]
     },
     "metadata": {
      "needs_background": "light"
     },
     "output_type": "display_data"
    },
    {
     "data": {
      "image/png": "[encoded data removed]",
      "text/plain": [
       "<Figure size 360x360 with 1 Axes>"
      ]
     },
     "metadata": {
      "needs_background": "light"
     },
     "output_type": "display_data"
    },
    {
     "data": {
      "image/png": "[encoded data removed]",
      "text/plain": [
       "<Figure size 360x360 with 1 Axes>"
      ]
     },
     "metadata": {
      "needs_background": "light"
     },
     "output_type": "display_data"
    },
    {
     "data": {
      "image/png": "[encoded data removed]",
      "text/plain": [
       "<Figure size 360x360 with 1 Axes>"
      ]
     },
     "metadata": {
      "needs_background": "light"
     },
     "output_type": "display_data"
    },
    {
     "data": {
      "image/png": "[encoded data removed]",
      "text/plain": [
       "<Figure size 360x360 with 1 Axes>"
      ]
     },
     "metadata": {
      "needs_background": "light"
     },
     "output_type": "display_data"
    }
   ],
   "source": [
    "from IPython.display import clear_output\n",
    "from matplotlib import pyplot as plt\n",
    "    \n",
    "# Create the image of the game outcome.\n",
    "RGB1 = [1.0, 0.5, 0.0]  # Orange. Color for high values.\n",
    "RGB0 = [1.0, 1.0, 1.0]  # White. Color for low values.\n",
    "\n",
    "MAX_STEP = 1001\n",
    "N_skip = 200\n",
    "step = 0\n",
    "\n",
    "N_alive_agents = np.zeros(MAX_STEP)\n",
    "\n",
    "\n",
    "running = True  # Flag to control the loop.\n",
    "while running:\n",
    "\n",
    "    N_alive_agents[step] = A\n",
    "\n",
    "    nSuSca, nA, nV, nS, nM, nx, ny = move_agents(SuSca, A, V, S, M, x, y)\n",
    "\n",
    "    if step % N_skip == 0:   \n",
    "        SuSca_RGB = convert2RBG(nSuSca, RGB0, RGB1)\n",
    "\n",
    "        plt.figure(figsize=(5, 5))\n",
    "        plt.imshow(SuSca_RGB)\n",
    "        plt.plot(ny, nx, '.', color='k')\n",
    "        plt.show()\n",
    "    \n",
    "    \n",
    "    A = nA\n",
    "    V = nV.copy()\n",
    "    S = nS.copy()\n",
    "    M = nM.copy()\n",
    "    x = nx.copy()\n",
    "    y = ny.copy()\n",
    "    step += 1\n",
    "    \n",
    "    if step >= MAX_STEP:\n",
    "        running = False\n",
    "\n",
    "        \n",
    "# Final Values\n",
    "M1 = M.copy()\n",
    "S1 = S.copy()\n",
    "V1 = V.copy()\n",
    "\n"
   ]
  },
  {
   "cell_type": "markdown",
   "metadata": {},
   "source": [
    "Compare histograms:"
   ]
  },
  {
   "cell_type": "code",
   "execution_count": null,
   "metadata": {},
   "outputs": [
    {
     "name": "stdout",
     "output_type": "stream",
     "text": [
      "301\n"
     ]
    }
   ],
   "source": [
    "print(A)"
   ]
  },
  {
   "cell_type": "markdown",
   "metadata": {},
   "source": [
    "#### Metabolism"
   ]
  },
  {
   "cell_type": "code",
   "execution_count": null,
   "metadata": {},
   "outputs": [
    {
     "data": {
      "image/png": "[encoded data removed]",
      "text/plain": [
       "<Figure size 720x360 with 1 Axes>"
      ]
     },
     "metadata": {
      "needs_background": "light"
     },
     "output_type": "display_data"
    }
   ],
   "source": [
    "# Metabolism: initial and final distribution.\n",
    "m_bins = possible_m\n",
    "m_bins_edges = np.arange(np.amin(possible_m) - 0.5, np.amax(possible_m) + 0.6)\n",
    "m_ini_h, m_ini_e = np.histogram(M0, bins=m_bins_edges)\n",
    "m_fin_h, m_fin_e = np.histogram(M1, bins=m_bins_edges)\n",
    "\n",
    "\n",
    "plt.figure(figsize=(10, 5))\n",
    "plt.bar(m_bins, m_ini_h, width=0.8, edgecolor='k', label='initial')\n",
    "plt.bar(m_bins, m_fin_h, width=0.4, edgecolor='k', label='final')\n",
    "plt.legend()\n",
    "plt.xlabel('m')\n",
    "plt.title('metabolism')\n",
    "plt.show()\n",
    "\n",
    "\n",
    "\n"
   ]
  },
  {
   "cell_type": "markdown",
   "metadata": {},
   "source": [
    "#### Vision"
   ]
  },
  {
   "cell_type": "code",
   "execution_count": null,
   "metadata": {},
   "outputs": [
    {
     "data": {
      "image/png": "[encoded data removed]",
      "text/plain": [
       "<Figure size 720x360 with 1 Axes>"
      ]
     },
     "metadata": {
      "needs_background": "light"
     },
     "output_type": "display_data"
    }
   ],
   "source": [
    "# Vision: initial and final distribution.\n",
    "v_bins = possible_v\n",
    "v_bins_edges = np.arange(np.amin(possible_v) - 0.5, np.amax(possible_v) + 0.6)\n",
    "v_ini_h, v_ini_e = np.histogram(V0, bins=v_bins_edges)\n",
    "v_fin_h, v_fin_e = np.histogram(V1, bins=v_bins_edges)\n",
    "\n",
    "\n",
    "plt.figure(figsize=(10, 5))\n",
    "plt.bar(v_bins, v_ini_h, width=0.8, edgecolor='k', label='initial')\n",
    "plt.bar(v_bins, v_fin_h, width=0.4, edgecolor='k', label='final')\n",
    "plt.legend()\n",
    "plt.xlabel('v')\n",
    "plt.title('vision')\n",
    "plt.show()\n"
   ]
  },
  {
   "cell_type": "markdown",
   "metadata": {},
   "source": [
    "#### Sugar"
   ]
  },
  {
   "cell_type": "code",
   "execution_count": null,
   "metadata": {},
   "outputs": [
    {
     "data": {
      "image/png": "[encoded data removed]",
      "text/plain": [
       "<Figure size 720x360 with 1 Axes>"
      ]
     },
     "metadata": {
      "needs_background": "light"
     },
     "output_type": "display_data"
    }
   ],
   "source": [
    "# Sugar: initial and final distribution.\n",
    "s_bins_i = possible_s\n",
    "s_bins_edges_i = np.arange(np.amin(possible_s) - 0.5, np.amax(possible_s) + 0.6)\n",
    "s_ini_h, s_ini_e = np.histogram(S0, bins=s_bins_edges_i)\n",
    "\n",
    "plt.figure(figsize=(10, 5))\n",
    "plt.bar(s_bins_i, s_ini_h, width=0.8, edgecolor='k', label='initial')\n",
    "plt.legend()\n",
    "plt.xlabel('s')\n",
    "plt.title('sugar')\n",
    "plt.show()\n",
    "\n",
    "\n"
   ]
  },
  {
   "cell_type": "markdown",
   "metadata": {},
   "source": [
    "### Lorenz curve and Gini coefficient.\n",
    "\n",
    "Measure of equality in wealth / resources distribution "
   ]
  },
  {
   "cell_type": "code",
   "execution_count": null,
   "metadata": {},
   "outputs": [],
   "source": [
    "def Lorenz_curve(s):\n",
    "    \"\"\"\n",
    "    Function to generate the Lorenz curve from a sequence of data.\n",
    "    \n",
    "    Parameters\n",
    "    ==========\n",
    "    s : Sugar of each agent.\n",
    "    \"\"\"\n",
    "    \n",
    "    N = np.size(s)\n",
    "    \n",
    "    population_fraction = np.arange(N) / N\n",
    "    \n",
    "    s_sorted = np.sort(s)\n",
    "    \n",
    "    cumulative_s_fraction = np.cumsum(s_sorted) / np.sum(s_sorted)\n",
    "    \n",
    "    \n",
    "    return cumulative_s_fraction, population_fraction"
   ]
  },
  {
   "cell_type": "code",
   "execution_count": null,
   "metadata": {},
   "outputs": [
    {
     "data": {
      "image/png": "[encoded data removed]",
      "text/plain": [
       "<Figure size 360x360 with 1 Axes>"
      ]
     },
     "metadata": {
      "needs_background": "light"
     },
     "output_type": "display_data"
    }
   ],
   "source": [
    "L0, F0 = Lorenz_curve(S0)\n",
    "\n",
    "\n",
    "plt.figure(figsize=(5, 5))\n",
    "plt.plot(F0, L0, '.-', label='initial')\n",
    "plt.plot([0, 1], [0, 1], '--', color='k', label='equality')\n",
    "plt.legend()\n",
    "plt.xlabel('F')\n",
    "plt.ylabel('L')\n",
    "plt.title('sugar')\n",
    "plt.show()\n",
    "\n",
    "\n"
   ]
  },
  {
   "cell_type": "code",
   "execution_count": null,
   "metadata": {},
   "outputs": [],
   "source": []
  }
 ],
 "metadata": {
  "kernelspec": {
   "display_name": "Python 3",
   "language": "python",
   "name": "python3"
  },
  "language_info": {
   "codemirror_mode": {
    "name": "ipython",
    "version": 3
   },
   "file_extension": ".py",
   "mimetype": "text/x-python",
   "name": "python",
   "nbconvert_exporter": "python",
   "pygments_lexer": "ipython3",
   "version": "3.12.1"
  }
 },
 "nbformat": 4,
 "nbformat_minor": 4
}

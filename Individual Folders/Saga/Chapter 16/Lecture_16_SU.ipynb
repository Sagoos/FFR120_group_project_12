{
 "cells": [
  {
   "cell_type": "markdown",
   "metadata": {},
   "source": [
    "# Chapter 16: The Sugarscape\n",
    "\n",
    "<img src=\"SU_fig_01.jpg\" alt=\"title\" width=\"600px\" />"
   ]
  },
  {
   "cell_type": "markdown",
   "metadata": {},
   "source": [
    "## Motivation\n",
    "\n",
    "**The Sugarscape**: Agent-based model with simple rules.\n",
    "Can account for the transformation of a population through:\n",
    "- natural selection \n",
    "- spatial segregation \n",
    "- migration\n",
    "- emergence of wealth inequalities. \n",
    "\n",
    "The model is easily extended by introducing additional rules to add, e.g., trade, reproductive pressure, exchange of information, and environment pollution..\n"
   ]
  },
  {
   "cell_type": "markdown",
   "metadata": {},
   "source": [
    "## Applications\n",
    "\n",
    "- social science\n",
    "- political science\n",
    "- cooperation\n",
    "- economics\n"
   ]
  },
  {
   "cell_type": "markdown",
   "metadata": {},
   "source": [
    "## Schelling's model of segregation\n",
    "\n",
    "Inspiration for the Sugarscape.\n",
    "\n",
    "**Description of the model:**\n",
    "\n",
    "- Town with $N^2$ houses (square lattice with $N \\times N$ cells)\n",
    "\n",
    "- $f$ : fraction of empty, available houses\n",
    "\n",
    "- the rest of the houses is occupied by families of two *kinds* ($A$ and $B$) differing on some characteristics (e.g., language, nutrition habits, religion)\n",
    "\n",
    "- families *positively* discriminate: each family is happy if they are not in the minority within their neighborhood (Moore's neighborhood)\n",
    "\n",
    "- each turn a random family is chosen: if unhappy, it randomly relocates in one of the available empty houses.\n",
    "\n",
    "Schelling showed that **segregation spontaneously emerges**.\n"
   ]
  },
  {
   "cell_type": "markdown",
   "metadata": {},
   "source": [
    "### Implementation\n",
    "\n",
    "Arena with $N \\times N$ houses. $N = 10$.\n",
    "\n",
    "$f$ : fraction of available houses. $f = 0.1$. \n",
    "10 houses are available to relocation if needed.\n",
    "\n",
    "**Happiness:** defined as *not being in the minority* within the Moore's neighborhood.\n",
    "\n",
    "In this implementation, a cell of the lattice with value:\n",
    "\n",
    "- $0$ represents a empty house\n",
    "- $1$ represents a family of type $A$\n",
    "- $-1$ represents a family of type $B$\n",
    "\n",
    "We start by randomly populating the lattice with roughly 50% - 50% proportion of $A$ and $B$ families."
   ]
  },
  {
   "cell_type": "markdown",
   "metadata": {},
   "source": [
    "## The Sugarscape.\n",
    "\n",
    "The \"Sugarscape\" is a landscape (in the form of a lattice) where **sugar grows in each cell**.\n",
    "\n",
    "The sugar provides energy and wealth.\n",
    "\n",
    "**Agents explore the landscape** and, while doing it, harvest the sugar. \n",
    "\n",
    "- Each round, each agent move once. They move sequentially. Each round, the order in which the agent move is random.\n",
    "\n",
    "- Two agents can't share the same cell: if an agent can't move on a free cell within its range, it remains in the cell it occupies.\n",
    "\n",
    "- Each agent pays a metabilic cost to remain alive and move on the sugarscape. When their energy (that corresponds to their sugar level) falls below zero then they die of starvation.\n",
    "\n",
    "At the end of each round, the **landscape regrowth the sugar** according to the growth rule $G_{\\rm g}$.\n",
    "\n",
    "For more details: see the book, page 16-5 and on."
   ]
  },
  {
   "cell_type": "markdown",
   "metadata": {},
   "source": [
    "### Features of the Sugarscape.\n",
    "\n",
    "We start from the classical implementation: \n",
    "\n",
    "- squared lattice $N \\times N$\n",
    "\n",
    "- sugar full capacity of each cell: from 0 to 4\n",
    "\n",
    "- landscape shaped like two sugar-hills\n",
    "\n",
    "- rule $G_{\\infty}$: at the end of each round, the sugar regrowth instantly to the maximum capacity of each cell.\n"
   ]
  },
  {
   "cell_type": "markdown",
   "metadata": {},
   "source": [
    "### Agents on the Sugarscape.\n",
    "\n",
    "Agents on sugarsape have the following features:\n",
    "\n",
    "- vision: $v$ (uniform distribution $\\in \\{1, 2, ..., 6 \\}$)\n",
    "- sugar: $s$ (uniform distribution $\\in \\{5, 6, ... 25 \\}$)\n",
    "- metabolism: $m$ (uniform distribution $\\in \\{1, 2, 3, 4 \\}$)\n",
    "\n",
    "The vision determines the motion range.\n",
    "\n",
    "The sugar is a reservoir of energy.\n"
   ]
  },
  {
   "cell_type": "code",
   "execution_count": 1,
   "metadata": {},
   "outputs": [],
   "source": [
    "# Import dependencies\n",
    "import pandas as pd\n",
    "import numpy as np"
   ]
  },
  {
   "cell_type": "code",
   "execution_count": null,
   "metadata": {},
   "outputs": [],
   "source": [
    "def move_agents(SuSca, Agents):\n",
    "    \"\"\"\n",
    "    Function to move the agents on the sugarscape.\n",
    "    Implements one round where all the agents move once.\n",
    "    \n",
    "    Parameters\n",
    "    ==========\n",
    "    SuSca : 2D numpy array representing the Sugarscape. \n",
    "    Agents : Pandas DataFrame containing agent attributes.\n",
    "    \"\"\"\n",
    "    Nx, Ny = SuSca.shape\n",
    "    \n",
    "    # Copy Sugarscape and dataframe\n",
    "    nSuSca = SuSca.copy()\n",
    "    New_Agents = Agents.copy()\n",
    "\n",
    "    # Shuffle alive agents for fair movement\n",
    "    alive_agents = New_Agents[New_Agents[\"Alive?\"]]\n",
    "    order = np.random.permutation(alive_agents.index)\n",
    "\n",
    "    for idx in order:\n",
    "        # Agent attributes\n",
    "        xa, ya = New_Agents.loc[idx, \"X position\"], New_Agents.loc[idx, \"Y position\"]\n",
    "        ma = New_Agents.loc[idx, \"Metabolic Rate\"]\n",
    "        va = New_Agents.loc[idx, \"Vision\"]\n",
    "        sa = New_Agents.loc[idx, \"Sugar Level\"]\n",
    "\n",
    "        # Search cells within vision range\n",
    "        rx = np.zeros(va * 4 + 1) + xa\n",
    "        ry = np.zeros(va * 4 + 1) + ya\n",
    "        rx[0] = xa\n",
    "        ry[0] = ya\n",
    "        rx[0 * va + 1:1 * va + 1] = xa + np.arange(va) + 1\n",
    "        rx[1 * va + 1:2 * va + 1] = xa - np.arange(va) - 1\n",
    "        ry[2 * va + 1:3 * va + 1] = ya + np.arange(va) + 1\n",
    "        ry[3 * va + 1:4 * va + 1] = ya - np.arange(va) - 1\n",
    "        rx = rx.astype(int) % Nx\n",
    "        ry = ry.astype(int) % Ny\n",
    "\n",
    "        # Find the best cell with the most sugar\n",
    "        sugar = nSuSca[rx, ry]\n",
    "        max_sugar = np.amax(sugar)\n",
    "        sugar_level = max_sugar\n",
    "        place_found = False\n",
    "\n",
    "        while not place_found and sugar_level >= 0:\n",
    "            options = np.where(sugar == sugar_level)[0]\n",
    "            for i in options:\n",
    "                x_ref, y_ref = int(rx[i]), int(ry[i])\n",
    "                is_occupied = (\n",
    "                    (New_Agents[\"X position\"] == x_ref) & \n",
    "                    (New_Agents[\"Y position\"] == y_ref) & \n",
    "                    (New_Agents[\"Alive?\"])\n",
    "                ).any()\n",
    "                if not is_occupied:\n",
    "                    # Move agent to new position\n",
    "                    New_Agents.loc[idx, \"X position\"] = x_ref\n",
    "                    New_Agents.loc[idx, \"Y position\"] = y_ref\n",
    "                    New_Agents.loc[idx, \"Sugar Level\"] += nSuSca[x_ref, y_ref]\n",
    "                    nSuSca[x_ref, y_ref] = 0\n",
    "                    place_found = True\n",
    "                    break\n",
    "            sugar_level -= 1\n",
    "\n",
    "        if not place_found:\n",
    "            # Stay in current position\n",
    "            New_Agents.loc[idx, \"Sugar Level\"] += nSuSca[xa, ya]\n",
    "            nSuSca[xa, ya] = 0\n",
    "\n",
    "    # Apply metabolic cost and update alive status\n",
    "    New_Agents[\"Sugar Level\"] -= New_Agents[\"Metabolic Rate\"]\n",
    "    New_Agents[\"Alive?\"] = New_Agents[\"Sugar Level\"] > 0\n",
    "\n",
    "    return nSuSca, New_Agents\n"
   ]
  },
  {
   "cell_type": "markdown",
   "metadata": {},
   "source": [
    "Initialize the sugarscape in the \"classical\" way."
   ]
  },
  {
   "cell_type": "code",
   "execution_count": 3,
   "metadata": {},
   "outputs": [],
   "source": [
    "def initialize_sugarscape(N):\n",
    "    \"\"\"\n",
    "    Function to generate the \"classical\" sugarscape.\n",
    "    \n",
    "    Parameters\n",
    "    ==========\n",
    "    N : Side of the sugarscape lattice.\n",
    "    \"\"\"\n",
    "    \n",
    "    SuSca = np.zeros([N, N])\n",
    "    X, Y = np.meshgrid(np.arange(N), np.arange(N))\n",
    "    \n",
    "    x_centers = np.array([N / 4, 3 * N / 4])\n",
    "    y_centers = np.array([N / 4, 3 * N / 4])\n",
    "\n",
    "    r_levels = np.array([4, 3, 2, 1]) / 4 * (np.sqrt(2) / 4) * N\n",
    "    s_levels = np.array([1, 2, 3, 4])\n",
    "    \n",
    "    for k in range(np.size(x_centers)):\n",
    "        d = np.sqrt((X - x_centers[k]) ** 2 +\n",
    "                    (Y - y_centers[k]) ** 2)\n",
    "        for i in range(np.size(s_levels)):\n",
    "            region = np.where(d <= r_levels[i])\n",
    "            SuSca[region[0], region[1]] = s_levels[i]\n",
    "    \n",
    "    return SuSca\n"
   ]
  },
  {
   "cell_type": "markdown",
   "metadata": {},
   "source": [
    "Function to convert a 2 dimensional numpy array into a RGB image."
   ]
  },
  {
   "cell_type": "code",
   "execution_count": 4,
   "metadata": {},
   "outputs": [],
   "source": [
    "def convert2RBG(game_outcome, RGB0, RGB1):\n",
    "    \"\"\"\n",
    "    Function to convert the 2 dimensional numpy array into a RGB image.\n",
    "    \n",
    "    Parameters\n",
    "    ==========\n",
    "    game_outcome : Outcome of the prisoner's dilemma.\n",
    "    RGB0 : Components R, G, B of the chosen color shade for minimum I_profile.\n",
    "    RGB1 : Components R, G, B of the chosen color shade for maximum I_profile.\n",
    "    \"\"\"\n",
    "    \n",
    "    [n_rows, n_cols] = game_outcome.shape\n",
    "    \n",
    "    I_RGB = np.zeros([n_rows, n_cols, 3])\n",
    "    \n",
    "    # Set I_profile between 0 and 1\n",
    "    game_outcome -= np.amin(game_outcome)    \n",
    "    game_outcome /= np.amax(game_outcome)  \n",
    "    \n",
    "    for c in range(3):\n",
    "        I_RGB[:, :, c] = game_outcome * RGB1[c] + (1 - game_outcome) * RGB0[c]\n",
    "\n",
    "    return I_RGB"
   ]
  },
  {
   "cell_type": "markdown",
   "metadata": {},
   "source": [
    "Check whether the initialization works."
   ]
  },
  {
   "cell_type": "code",
   "execution_count": 5,
   "metadata": {},
   "outputs": [
    {
     "data": {
      "image/png": "[encoded data removed]",
      "text/plain": [
       "<Figure size 500x500 with 1 Axes>"
      ]
     },
     "metadata": {},
     "output_type": "display_data"
    }
   ],
   "source": [
    "from matplotlib import pyplot as plt\n",
    "\n",
    "N = 50  # Side of the sugarscape.\n",
    "\n",
    "SuSca = initialize_sugarscape(N)\n",
    "\n",
    "# Create the image of the game outcome.\n",
    "RGB1 = [1.0, 0.5, 0.0]  # Orange. Color for high values.\n",
    "RGB0 = [1.0, 1.0, 1.0]  # White. Color for low values.\n",
    "SuSca_RGB = convert2RBG(SuSca, RGB0, RGB1)\n",
    "\n",
    "# Plot the Sugarscape.\n",
    "plt.figure(figsize=(5, 5))\n",
    "plt.imshow(SuSca_RGB)  # Plot Sugarscape profile.\n",
    "# Plot the reference points.\n",
    "plt.title('Classical Sugarscape')\n",
    "plt.axis('equal')\n",
    "plt.show()       \n"
   ]
  },
  {
   "cell_type": "code",
   "execution_count": 6,
   "metadata": {},
   "outputs": [],
   "source": [
    "from random import sample\n",
    "\n",
    "N = 50  # Size of the sugarscape with the agents.\n",
    "A = 400  # Number of agents on the sugarscape.\n",
    "\n",
    "# Initial values. Chosen from the following flat distributions.\n",
    "possible_m = np.arange(4) + 1  # Metabolic rate.\n",
    "possible_v = np.arange(6) + 1  # Vision.\n",
    "possible_s = np.arange(21) + 5  # Sugar.\n",
    "\n",
    "# Agents initialized. \n",
    "M = np.random.randint(np.size(possible_m), size=A) + 1\n",
    "V = np.random.randint(np.size(possible_v), size=A) + 1\n",
    "S = np.random.randint(np.size(possible_s), size=A) + 5\n",
    "\n",
    "\n",
    "# Define agents position. \n",
    "L = np.array(sample(range(N * N), A)).astype(int) \n",
    "x = L % N\n",
    "y = ((L - x) / N).astype(int) \n",
    "\n",
    "# New Initialize agents\n",
    "data = {\n",
    "    \"X position\": L % N,\n",
    "    \"Y position\": ((L - x) / N).astype(int),\n",
    "    \"Metabolic Rate\": np.random.randint(np.size(possible_m), size=A)+1,\n",
    "    \"Vision\": np.random.randint(np.size(possible_v), size=A) + 1,\n",
    "    \"Sugar Level\": np.random.randint(np.size(possible_s), size=A) + 5,\n",
    "    \"Alive?\": np.full(A, True, dtype=bool)    \n",
    "}\n",
    "\n",
    "Agents = pd.DataFrame(data)\n",
    "\n",
    "# This way each agent occupy a different cell.\n",
    "\n",
    "SuSca = initialize_sugarscape(N)\n",
    "\n",
    "# nSuSca = move_agents(SuSca, N, Agents_df)"
   ]
  },
  {
   "cell_type": "code",
   "execution_count": 7,
   "metadata": {},
   "outputs": [],
   "source": [
    "Agents.iloc[np.where(M <= 2)[0],5] = False"
   ]
  },
  {
   "cell_type": "code",
   "execution_count": 8,
   "metadata": {},
   "outputs": [
    {
     "data": {
      "text/plain": [
       "(array([  0,   1,   4,   5,   6,   8,  13,  14,  15,  17,  22,  26,  27,\n",
       "         29,  30,  33,  35,  37,  38,  39,  40,  42,  44,  45,  46,  47,\n",
       "         50,  51,  55,  56,  58,  61,  65,  66,  68,  69,  71,  72,  73,\n",
       "         74,  75,  76,  77,  78,  79,  80,  82,  85,  86,  87,  89,  93,\n",
       "         95,  97,  98,  99, 102, 103, 111, 113, 114, 115, 116, 117, 118,\n",
       "        119, 125, 127, 129, 133, 134, 135, 138, 141, 142, 146, 147, 148,\n",
       "        149, 150, 152, 156, 158, 163, 166, 167, 168, 169, 170, 174, 175,\n",
       "        177, 178, 181, 182, 183, 185, 194, 195, 196, 199, 202, 213, 214,\n",
       "        215, 217, 218, 223, 226, 228, 230, 232, 234, 235, 236, 238, 239,\n",
       "        240, 243, 244, 247, 248, 252, 253, 254, 256, 257, 258, 260, 262,\n",
       "        264, 265, 266, 267, 271, 273, 274, 275, 278, 279, 280, 281, 283,\n",
       "        284, 287, 289, 290, 293, 300, 303, 304, 305, 307, 310, 312, 315,\n",
       "        316, 317, 318, 319, 320, 321, 322, 325, 326, 328, 329, 332, 336,\n",
       "        338, 339, 341, 342, 343, 347, 350, 351, 359, 362, 364, 369, 371,\n",
       "        376, 380, 381, 382, 383, 386, 388, 392, 397, 398], dtype=int64),\n",
       " 5)"
      ]
     },
     "execution_count": 8,
     "metadata": {},
     "output_type": "execute_result"
    }
   ],
   "source": [
    "np.where(M <= 2)[0], 5"
   ]
  },
  {
   "cell_type": "code",
   "execution_count": 9,
   "metadata": {},
   "outputs": [],
   "source": [
    "still_alive = np.where(Agents[\"Alive?\"] == True)[0]"
   ]
  },
  {
   "cell_type": "code",
   "execution_count": 10,
   "metadata": {},
   "outputs": [
    {
     "data": {
      "text/plain": [
       "array([  2,   3,   7,   9,  10,  11,  12,  16,  18,  19,  20,  21,  23,\n",
       "        24,  25,  28,  31,  32,  34,  36,  41,  43,  48,  49,  52,  53,\n",
       "        54,  57,  59,  60,  62,  63,  64,  67,  70,  81,  83,  84,  88,\n",
       "        90,  91,  92,  94,  96, 100, 101, 104, 105, 106, 107, 108, 109,\n",
       "       110, 112, 120, 121, 122, 123, 124, 126, 128, 130, 131, 132, 136,\n",
       "       137, 139, 140, 143, 144, 145, 151, 153, 154, 155, 157, 159, 160,\n",
       "       161, 162, 164, 165, 171, 172, 173, 176, 179, 180, 184, 186, 187,\n",
       "       188, 189, 190, 191, 192, 193, 197, 198, 200, 201, 203, 204, 205,\n",
       "       206, 207, 208, 209, 210, 211, 212, 216, 219, 220, 221, 222, 224,\n",
       "       225, 227, 229, 231, 233, 237, 241, 242, 245, 246, 249, 250, 251,\n",
       "       255, 259, 261, 263, 268, 269, 270, 272, 276, 277, 282, 285, 286,\n",
       "       288, 291, 292, 294, 295, 296, 297, 298, 299, 301, 302, 306, 308,\n",
       "       309, 311, 313, 314, 323, 324, 327, 330, 331, 333, 334, 335, 337,\n",
       "       340, 344, 345, 346, 348, 349, 352, 353, 354, 355, 356, 357, 358,\n",
       "       360, 361, 363, 365, 366, 367, 368, 370, 372, 373, 374, 375, 377,\n",
       "       378, 379, 384, 385, 387, 389, 390, 391, 393, 394, 395, 396, 399],\n",
       "      dtype=int64)"
      ]
     },
     "execution_count": 10,
     "metadata": {},
     "output_type": "execute_result"
    }
   ],
   "source": [
    "still_alive"
   ]
  },
  {
   "cell_type": "code",
   "execution_count": 11,
   "metadata": {},
   "outputs": [],
   "source": [
    "import time\n",
    "from tkinter import Tk, Canvas\n",
    "\n",
    "r0 = 0.25  # Radius of agents in the visualization\n",
    "N_skip = 1  # Visualize every N_skip steps\n",
    "MAX_STEP = 1001  # Maximum simulation steps\n",
    "N_alive_agents = np.zeros(MAX_STEP)  # Tracks alive agents over time\n",
    "\n",
    "# Visualization settings\n",
    "window_size = 600\n",
    "cell_color_list = ['#FFFFFF', '#FFECCE', '#FFCE88', '#FFA040', '#FF8000']  # Sugar levels\n",
    "\n",
    "# Initialize Tkinter window\n",
    "tk = Tk()\n",
    "tk.geometry(f'{window_size + 20}x{window_size + 20}')\n",
    "tk.configure(background='#000000')\n",
    "canvas = Canvas(tk, background='#ECECEC')  # Create animation window\n",
    "tk.attributes('-topmost', 0)\n",
    "canvas.place(x=10, y=10, height=window_size, width=window_size)\n",
    "\n",
    "step = 0\n",
    "running = True  # Flag to control the loop\n",
    "\n",
    "# Function to stop the simulation with the Escape key\n",
    "def stop_loop(event):\n",
    "    global running\n",
    "    running = False\n",
    "\n",
    "tk.bind(\"<Escape>\", stop_loop)  # Bind the Escape key\n",
    "\n",
    "while running:\n",
    "    # Perform one step of the simulation\n",
    "    nSuSca, Agents = move_agents(SuSca, Agents)\n",
    "    \n",
    "    # Identify alive agents\n",
    "    still_alive = Agents[Agents[\"Alive?\"]].index\n",
    "    N_alive_agents[step] = len(still_alive)\n",
    "    \n",
    "    # Update visualization\n",
    "    if step % N_skip == 0:        \n",
    "        canvas.delete('all')\n",
    "        \n",
    "        # Draw the Sugarscape grid\n",
    "        SU_cells = []\n",
    "        for i in range(SuSca.shape[0]):  # Loop through rows\n",
    "            for j in range(SuSca.shape[1]):  # Loop through columns\n",
    "                cell_color = cell_color_list[int(min(nSuSca[i, j], len(cell_color_list) - 1))]\n",
    "                SU_cells.append(\n",
    "                    canvas.create_rectangle(\n",
    "                        i / SuSca.shape[0] * window_size, \n",
    "                        j / SuSca.shape[1] * window_size,\n",
    "                        (i + 1) / SuSca.shape[0] * window_size,\n",
    "                        (j + 1) / SuSca.shape[1] * window_size, \n",
    "                        outline='', \n",
    "                        fill=cell_color,\n",
    "                    )\n",
    "                )\n",
    "        \n",
    "        # Draw the agents\n",
    "        Agents_circ = []\n",
    "        for idx in still_alive:\n",
    "            Agents_circ.append(\n",
    "                canvas.create_oval(\n",
    "                    (Agents.loc[idx, \"X position\"] + 0.5 - r0) / SuSca.shape[0] * window_size, \n",
    "                    (Agents.loc[idx, \"Y position\"] + 0.5 - r0) / SuSca.shape[1] * window_size,\n",
    "                    (Agents.loc[idx, \"X position\"] + 0.5 + r0) / SuSca.shape[0] * window_size,\n",
    "                    (Agents.loc[idx, \"Y position\"] + 0.5 + r0) / SuSca.shape[1] * window_size, \n",
    "                    outline='', \n",
    "                    fill='#000000',\n",
    "                )\n",
    "            )\n",
    "        \n",
    "        # Update window title and refresh canvas\n",
    "        tk.title(f'Iteration {step}')\n",
    "        tk.update_idletasks()\n",
    "        tk.update()\n",
    "        time.sleep(0.1)  # Adjust delay for simulation speed\n",
    "\n",
    "    # Increment simulation step\n",
    "    step += 1\n",
    "    \n",
    "    # Stop if max steps reached\n",
    "    if step >= MAX_STEP:\n",
    "        running = False\n",
    "\n",
    "# Final update before closing\n",
    "tk.update_idletasks()\n",
    "tk.update()\n",
    "tk.mainloop()  # Close the window to end the simulation\n"
   ]
  },
  {
   "cell_type": "markdown",
   "metadata": {},
   "source": [
    "Now let's try without animation."
   ]
  },
  {
   "cell_type": "code",
   "execution_count": 12,
   "metadata": {},
   "outputs": [],
   "source": [
    "from random import sample\n",
    "\n",
    "N = 50  # Size of the sugarscape with the agents.\n",
    "A = 400  # Number of agents on the sugarscape.\n",
    "\n",
    "# Initial values. Chosen from the following flat distributions.\n",
    "possible_m = np.arange(4) + 1  # Metabolic rate.\n",
    "possible_v = np.arange(6) + 1  # Vision.\n",
    "possible_s = np.arange(21) + 5  # Sugar.\n",
    "\n",
    "# Agents initialized. \n",
    "M = np.random.randint(np.size(possible_m), size=A) + 1\n",
    "V = np.random.randint(np.size(possible_v), size=A) + 1\n",
    "S = np.random.randint(np.size(possible_s), size=A) + 5\n",
    "\n",
    "M0 = M.copy()\n",
    "S0 = S.copy()\n",
    "V0 = V.copy()\n",
    "\n",
    "# Define agents position. \n",
    "L = np.array(sample(range(N * N), A)).astype(int) \n",
    "x = L % N\n",
    "y = ((L - x) / N).astype(int) \n",
    "# This way each agent occupy a different cell.\n",
    "\n",
    "SuSca = initialize_sugarscape(N)"
   ]
  },
  {
   "cell_type": "code",
   "execution_count": 13,
   "metadata": {},
   "outputs": [
    {
     "ename": "TypeError",
     "evalue": "move_agents() takes 2 positional arguments but 3 were given",
     "output_type": "error",
     "traceback": [
      "\u001b[1;31m---------------------------------------------------------------------------\u001b[0m",
      "\u001b[1;31mTypeError\u001b[0m                                 Traceback (most recent call last)",
      "Cell \u001b[1;32mIn[13], line 20\u001b[0m\n\u001b[0;32m     16\u001b[0m \u001b[38;5;28;01mwhile\u001b[39;00m running:\n\u001b[0;32m     18\u001b[0m     N_alive_agents[step] \u001b[38;5;241m=\u001b[39m A\n\u001b[1;32m---> 20\u001b[0m     nSuSca \u001b[38;5;241m=\u001b[39m \u001b[43mmove_agents\u001b[49m\u001b[43m(\u001b[49m\u001b[43mSuSca\u001b[49m\u001b[43m,\u001b[49m\u001b[43m \u001b[49m\u001b[43mN\u001b[49m\u001b[43m,\u001b[49m\u001b[43m \u001b[49m\u001b[43mAgents\u001b[49m\u001b[43m)\u001b[49m\n\u001b[0;32m     21\u001b[0m     \u001b[38;5;66;03m# nSuSca, nA, nV, nS, nM, nx, ny = move_agents(SuSca, A, V, S, M, x, y)\u001b[39;00m\n\u001b[0;32m     23\u001b[0m     still_alive \u001b[38;5;241m=\u001b[39m np\u001b[38;5;241m.\u001b[39mwhere(Agents[\u001b[38;5;124m\"\u001b[39m\u001b[38;5;124mAlive?\u001b[39m\u001b[38;5;124m\"\u001b[39m] \u001b[38;5;241m==\u001b[39m \u001b[38;5;28;01mTrue\u001b[39;00m)[\u001b[38;5;241m0\u001b[39m]\n",
      "\u001b[1;31mTypeError\u001b[0m: move_agents() takes 2 positional arguments but 3 were given"
     ]
    }
   ],
   "source": [
    "from IPython.display import clear_output\n",
    "from matplotlib import pyplot as plt\n",
    "    \n",
    "# Create the image of the game outcome.\n",
    "RGB1 = [1.0, 0.5, 0.0]  # Orange. Color for high values.\n",
    "RGB0 = [1.0, 1.0, 1.0]  # White. Color for low values.\n",
    "\n",
    "MAX_STEP = 1001\n",
    "N_skip = 200\n",
    "step = 0\n",
    "\n",
    "N_alive_agents = np.zeros(MAX_STEP)\n",
    "\n",
    "\n",
    "running = True  # Flag to control the loop.\n",
    "while running:\n",
    "\n",
    "    N_alive_agents[step] = A\n",
    "\n",
    "    nSuSca = move_agents(SuSca, N, Agents)\n",
    "    # nSuSca, nA, nV, nS, nM, nx, ny = move_agents(SuSca, A, V, S, M, x, y)\n",
    "\n",
    "    still_alive = np.where(Agents[\"Alive?\"] == True)[0]\n",
    "\n",
    "    if step % N_skip == 0:   \n",
    "        SuSca_RGB = convert2RBG(nSuSca, RGB0, RGB1)\n",
    "\n",
    "        plt.figure(figsize=(5, 5))\n",
    "        plt.imshow(SuSca_RGB)\n",
    "        plt.plot(ny, nx, '.', color='k')\n",
    "        plt.show()\n",
    "    \n",
    "    \n",
    "    A = Agents[still_alive]\n",
    "    V = nV.copy()\n",
    "    S = nS.copy()\n",
    "    M = nM.copy()\n",
    "    x = nx.copy()\n",
    "    y = ny.copy()\n",
    "    step += 1\n",
    "    \n",
    "    if step >= MAX_STEP:\n",
    "        running = False\n",
    "\n",
    "        \n",
    "# Final Values\n",
    "M1 = M.copy()\n",
    "S1 = S.copy()\n",
    "V1 = V.copy()\n",
    "\n"
   ]
  },
  {
   "cell_type": "markdown",
   "metadata": {},
   "source": [
    "Compare histograms:"
   ]
  },
  {
   "cell_type": "code",
   "execution_count": null,
   "metadata": {},
   "outputs": [
    {
     "name": "stdout",
     "output_type": "stream",
     "text": [
      "301\n"
     ]
    }
   ],
   "source": [
    "print(A)"
   ]
  },
  {
   "cell_type": "markdown",
   "metadata": {},
   "source": [
    "#### Metabolism"
   ]
  },
  {
   "cell_type": "code",
   "execution_count": null,
   "metadata": {},
   "outputs": [
    {
     "data": {
      "image/png": "[encoded data removed]",
      "text/plain": [
       "<Figure size 720x360 with 1 Axes>"
      ]
     },
     "metadata": {
      "needs_background": "light"
     },
     "output_type": "display_data"
    }
   ],
   "source": [
    "# Metabolism: initial and final distribution.\n",
    "m_bins = possible_m\n",
    "m_bins_edges = np.arange(np.amin(possible_m) - 0.5, np.amax(possible_m) + 0.6)\n",
    "m_ini_h, m_ini_e = np.histogram(M0, bins=m_bins_edges)\n",
    "m_fin_h, m_fin_e = np.histogram(M1, bins=m_bins_edges)\n",
    "\n",
    "\n",
    "plt.figure(figsize=(10, 5))\n",
    "plt.bar(m_bins, m_ini_h, width=0.8, edgecolor='k', label='initial')\n",
    "plt.bar(m_bins, m_fin_h, width=0.4, edgecolor='k', label='final')\n",
    "plt.legend()\n",
    "plt.xlabel('m')\n",
    "plt.title('metabolism')\n",
    "plt.show()\n",
    "\n",
    "\n",
    "\n"
   ]
  },
  {
   "cell_type": "markdown",
   "metadata": {},
   "source": [
    "#### Vision"
   ]
  },
  {
   "cell_type": "code",
   "execution_count": null,
   "metadata": {},
   "outputs": [
    {
     "data": {
      "image/png": "[encoded data removed]",
      "text/plain": [
       "<Figure size 720x360 with 1 Axes>"
      ]
     },
     "metadata": {
      "needs_background": "light"
     },
     "output_type": "display_data"
    }
   ],
   "source": [
    "# Vision: initial and final distribution.\n",
    "v_bins = possible_v\n",
    "v_bins_edges = np.arange(np.amin(possible_v) - 0.5, np.amax(possible_v) + 0.6)\n",
    "v_ini_h, v_ini_e = np.histogram(V0, bins=v_bins_edges)\n",
    "v_fin_h, v_fin_e = np.histogram(V1, bins=v_bins_edges)\n",
    "\n",
    "\n",
    "plt.figure(figsize=(10, 5))\n",
    "plt.bar(v_bins, v_ini_h, width=0.8, edgecolor='k', label='initial')\n",
    "plt.bar(v_bins, v_fin_h, width=0.4, edgecolor='k', label='final')\n",
    "plt.legend()\n",
    "plt.xlabel('v')\n",
    "plt.title('vision')\n",
    "plt.show()\n"
   ]
  },
  {
   "cell_type": "markdown",
   "metadata": {},
   "source": [
    "#### Sugar"
   ]
  },
  {
   "cell_type": "code",
   "execution_count": null,
   "metadata": {},
   "outputs": [
    {
     "data": {
      "image/png": "[encoded data removed]",
      "text/plain": [
       "<Figure size 720x360 with 1 Axes>"
      ]
     },
     "metadata": {
      "needs_background": "light"
     },
     "output_type": "display_data"
    }
   ],
   "source": [
    "# Sugar: initial and final distribution.\n",
    "s_bins_i = possible_s\n",
    "s_bins_edges_i = np.arange(np.amin(possible_s) - 0.5, np.amax(possible_s) + 0.6)\n",
    "s_ini_h, s_ini_e = np.histogram(S0, bins=s_bins_edges_i)\n",
    "\n",
    "plt.figure(figsize=(10, 5))\n",
    "plt.bar(s_bins_i, s_ini_h, width=0.8, edgecolor='k', label='initial')\n",
    "plt.legend()\n",
    "plt.xlabel('s')\n",
    "plt.title('sugar')\n",
    "plt.show()\n",
    "\n",
    "\n"
   ]
  },
  {
   "cell_type": "markdown",
   "metadata": {},
   "source": [
    "### Lorenz curve and Gini coefficient.\n",
    "\n",
    "Measure of equality in wealth / resources distribution "
   ]
  },
  {
   "cell_type": "code",
   "execution_count": null,
   "metadata": {},
   "outputs": [],
   "source": [
    "def Lorenz_curve(s):\n",
    "    \"\"\"\n",
    "    Function to generate the Lorenz curve from a sequence of data.\n",
    "    \n",
    "    Parameters\n",
    "    ==========\n",
    "    s : Sugar of each agent.\n",
    "    \"\"\"\n",
    "    \n",
    "    N = np.size(s)\n",
    "    \n",
    "    population_fraction = np.arange(N) / N\n",
    "    \n",
    "    s_sorted = np.sort(s)\n",
    "    \n",
    "    cumulative_s_fraction = np.cumsum(s_sorted) / np.sum(s_sorted)\n",
    "    \n",
    "    \n",
    "    return cumulative_s_fraction, population_fraction"
   ]
  },
  {
   "cell_type": "code",
   "execution_count": null,
   "metadata": {},
   "outputs": [
    {
     "data": {
      "image/png": "[encoded data removed]",
      "text/plain": [
       "<Figure size 360x360 with 1 Axes>"
      ]
     },
     "metadata": {
      "needs_background": "light"
     },
     "output_type": "display_data"
    }
   ],
   "source": [
    "L0, F0 = Lorenz_curve(S0)\n",
    "\n",
    "\n",
    "plt.figure(figsize=(5, 5))\n",
    "plt.plot(F0, L0, '.-', label='initial')\n",
    "plt.plot([0, 1], [0, 1], '--', color='k', label='equality')\n",
    "plt.legend()\n",
    "plt.xlabel('F')\n",
    "plt.ylabel('L')\n",
    "plt.title('sugar')\n",
    "plt.show()\n",
    "\n",
    "\n"
   ]
  },
  {
   "cell_type": "code",
   "execution_count": null,
   "metadata": {},
   "outputs": [],
   "source": []
  }
 ],
 "metadata": {
  "kernelspec": {
   "display_name": "Python 3",
   "language": "python",
   "name": "python3"
  },
  "language_info": {
   "codemirror_mode": {
    "name": "ipython",
    "version": 3
   },
   "file_extension": ".py",
   "mimetype": "text/x-python",
   "name": "python",
   "nbconvert_exporter": "python",
   "pygments_lexer": "ipython3",
   "version": "3.12.1"
  }
 },
 "nbformat": 4,
 "nbformat_minor": 4
}

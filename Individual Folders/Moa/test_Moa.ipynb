{
 "cells": [
  {
   "cell_type": "code",
   "execution_count": 1,
   "metadata": {},
   "outputs": [
    {
     "name": "stdout",
     "output_type": "stream",
     "text": [
      "hello\n"
     ]
    }
   ],
   "source": [
    "import numpy as np\n",
    "print('hello')"
   ]
  },
  {
   "cell_type": "code",
   "execution_count": 2,
   "metadata": {},
   "outputs": [],
   "source": [
    "numberOfAgents = 10\n",
    "propeties = 7\n",
    "agents_abilities = np.empty((0, propeties))\n",
    "\n",
    "for agent in range(numberOfAgents):\n",
    "    #print(agents_abilities)\n",
    "    agent_vector = np.random.rand(propeties)        # Create vector with random valus\n",
    "    normalized_vector = agent_vector / np.sum(agent_vector)     # All elements should sum up to 1\n",
    "    normalized_vector = np.array(normalized_vector)         # Make np array\n",
    "    #print(normalized_vector.shape)\n",
    "    agents_abilities = np.vstack([agents_abilities, normalized_vector])     # Stack in matrix\n",
    "    \n",
    "#print(agents_abilities.shape)\n",
    "#print(sum(agents_abilities[1]))\n",
    "\n",
    "#print('sum: ', sum(normalized_vector))\n",
    "\n"
   ]
  },
  {
   "cell_type": "code",
   "execution_count": 3,
   "metadata": {},
   "outputs": [
    {
     "name": "stdout",
     "output_type": "stream",
     "text": [
      "hello\n"
     ]
    }
   ],
   "source": [
    "print('hello')"
   ]
  }
 ],
 "metadata": {
  "kernelspec": {
   "display_name": "base",
   "language": "python",
   "name": "python3"
  },
  "language_info": {
   "codemirror_mode": {
    "name": "ipython",
    "version": 3
   },
   "file_extension": ".py",
   "mimetype": "text/x-python",
   "name": "python",
   "nbconvert_exporter": "python",
   "pygments_lexer": "ipython3",
   "version": "3.12.2"
  }
 },
 "nbformat": 4,
 "nbformat_minor": 2
}
